{
 "cells": [
  {
   "cell_type": "markdown",
   "id": "f7095a7d",
   "metadata": {},
   "source": [
    "### Module을 불러오고 장비확인"
   ]
  },
  {
   "cell_type": "code",
   "execution_count": 140,
   "id": "a4dbc8e9",
   "metadata": {},
   "outputs": [
    {
     "name": "stdout",
     "output_type": "stream",
     "text": [
      "Collecting seaborn\n",
      "  Downloading seaborn-0.11.2-py3-none-any.whl (292 kB)\n",
      "Requirement already satisfied: numpy>=1.15 in c:\\users\\raist\\miniconda3\\envs\\machin\\lib\\site-packages (from seaborn) (1.21.5)\n",
      "Requirement already satisfied: pandas>=0.23 in c:\\users\\raist\\miniconda3\\envs\\machin\\lib\\site-packages (from seaborn) (1.3.5)\n",
      "Requirement already satisfied: matplotlib>=2.2 in c:\\users\\raist\\miniconda3\\envs\\machin\\lib\\site-packages (from seaborn) (3.5.1)\n",
      "Requirement already satisfied: scipy>=1.0 in c:\\users\\raist\\miniconda3\\envs\\machin\\lib\\site-packages (from seaborn) (1.7.3)\n",
      "Requirement already satisfied: packaging>=20.0 in c:\\users\\raist\\miniconda3\\envs\\machin\\lib\\site-packages (from matplotlib>=2.2->seaborn) (21.3)\n",
      "Requirement already satisfied: pyparsing>=2.2.1 in c:\\users\\raist\\miniconda3\\envs\\machin\\lib\\site-packages (from matplotlib>=2.2->seaborn) (3.0.4)\n",
      "Requirement already satisfied: fonttools>=4.22.0 in c:\\users\\raist\\miniconda3\\envs\\machin\\lib\\site-packages (from matplotlib>=2.2->seaborn) (4.25.0)\n",
      "Requirement already satisfied: kiwisolver>=1.0.1 in c:\\users\\raist\\miniconda3\\envs\\machin\\lib\\site-packages (from matplotlib>=2.2->seaborn) (1.3.2)\n",
      "Requirement already satisfied: python-dateutil>=2.7 in c:\\users\\raist\\miniconda3\\envs\\machin\\lib\\site-packages (from matplotlib>=2.2->seaborn) (2.8.2)\n",
      "Requirement already satisfied: pillow>=6.2.0 in c:\\users\\raist\\miniconda3\\envs\\machin\\lib\\site-packages (from matplotlib>=2.2->seaborn) (9.0.1)\n",
      "Requirement already satisfied: cycler>=0.10 in c:\\users\\raist\\miniconda3\\envs\\machin\\lib\\site-packages (from matplotlib>=2.2->seaborn) (0.11.0)\n",
      "Requirement already satisfied: pytz>=2017.3 in c:\\users\\raist\\miniconda3\\envs\\machin\\lib\\site-packages (from pandas>=0.23->seaborn) (2022.1)\n",
      "Requirement already satisfied: six>=1.5 in c:\\users\\raist\\miniconda3\\envs\\machin\\lib\\site-packages (from python-dateutil>=2.7->matplotlib>=2.2->seaborn) (1.16.0)\n",
      "Installing collected packages: seaborn\n",
      "Successfully installed seaborn-0.11.2\n"
     ]
    }
   ],
   "source": [
    "!pip install seaborn"
   ]
  },
  {
   "cell_type": "code",
   "execution_count": 1,
   "id": "b4043fa7",
   "metadata": {},
   "outputs": [],
   "source": [
    "import numpy as np\n",
    "import matplotlib.pyplot as plt\n",
    "\n",
    "from torch import Tensor\n",
    "import torch\n",
    "from torchvision import datasets\n",
    "import torchvision.transforms as transforms\n",
    "\n",
    "import torch.optim as optim\n",
    "import pandas as pd\n",
    "import ssl\n",
    "ssl._create_default_https_context = ssl._create_unverified_context\n",
    "from torch.utils.data import DataLoader, Dataset\n",
    "\n",
    "import seaborn as sns"
   ]
  },
  {
   "cell_type": "code",
   "execution_count": 2,
   "id": "c15cbbc7",
   "metadata": {},
   "outputs": [],
   "source": [
    "class TensorData(Dataset):\n",
    "    # 외부에 있는 데이터를 가져오기 위해 외부에서 데이터가 들어올 수 있도록, x_data, y_data 변수를 지정\n",
    "    def __init__(self, x_data, y_data):\n",
    "        #들어온 x는 tensor형태로 변환\n",
    "        self.x_data = torch.FloatTensor(x_data)\n",
    "        # tensor data의 형태는 (배치사이즈, 채널사이즈, 이미지 너비, 높이)의 형태임\n",
    "        # 따라서 들어온 데이터의 형식을 permute함수를 활용하여 바꾸어주어야함.\n",
    "        # 아래는 이미지용\n",
    "        #self.x_data = self.x_data.permute(0,3,1,2)  # 인덱스 번호로 바꾸어주는 것 # 이미지 개수, 채널 수, 이미지 너비, 높이\n",
    "        self.y_data = torch.FloatTensor(y_data) # float tensor / long tensor 로 숫자 속성을 정해줄 수 있음\n",
    "        self.len = self.y_data.shape[0]\n",
    "\n",
    "    # x,y를 튜플형태로 바깥으로 내보내기\n",
    "    def __getitem__(self, index):\n",
    "        return self.x_data[index], self.y_data[index]\n",
    "\n",
    "    def __len__(self):\n",
    "        return self.len"
   ]
  },
  {
   "cell_type": "code",
   "execution_count": 3,
   "id": "6d2d66c9",
   "metadata": {},
   "outputs": [],
   "source": [
    "\n",
    "class NormalTransform():\n",
    "\n",
    "    def __init__(self, mean, std):\n",
    "        self.data_transform = transforms.Compose([\n",
    "            transforms.Normalize(self,mean,std),\n",
    "        ])\n",
    "\n",
    "    def __call__(self, img):\n",
    "        return self.data_transform(img)"
   ]
  },
  {
   "cell_type": "markdown",
   "id": "7a7853c1",
   "metadata": {},
   "source": [
    "### 딥러닝 모델 설계 장비 확인"
   ]
  },
  {
   "cell_type": "code",
   "execution_count": 4,
   "id": "8f9ade0a",
   "metadata": {},
   "outputs": [
    {
     "name": "stdout",
     "output_type": "stream",
     "text": [
      "Using PyTorch version: 1.11.0  Device: cuda\n"
     ]
    }
   ],
   "source": [
    "if torch.cuda.is_available():\n",
    "    device = torch.device('cuda')\n",
    "else:\n",
    "    device = torch.device('cpu')\n",
    "\n",
    "print('Using PyTorch version:', torch.__version__, ' Device:', device)"
   ]
  },
  {
   "cell_type": "markdown",
   "id": "b5de6cda",
   "metadata": {},
   "source": [
    "### 데이터 전처리"
   ]
  },
  {
   "cell_type": "code",
   "execution_count": 5,
   "id": "1d399464",
   "metadata": {},
   "outputs": [],
   "source": [
    "df1  = pd.read_csv(\".\\colonoscopy\\history\\exp_20220413_131808.csv\")"
   ]
  },
  {
   "cell_type": "code",
   "execution_count": 6,
   "id": "c95fbbed",
   "metadata": {},
   "outputs": [],
   "source": [
    "df2  = pd.read_csv(\".\\colonoscopy\\history\\exp_20220413-134511.csv\")"
   ]
  },
  {
   "cell_type": "code",
   "execution_count": 7,
   "id": "3f9a60a7",
   "metadata": {},
   "outputs": [],
   "source": [
    "df3  = pd.read_csv(\".\\colonoscopy\\history\\exp_20220413-141532.csv\")"
   ]
  },
  {
   "cell_type": "code",
   "execution_count": 8,
   "id": "94e718fa",
   "metadata": {},
   "outputs": [],
   "source": [
    "test_df  = pd.read_csv(\".\\colonoscopy\\history\\exp_20220413-155652.csv\")"
   ]
  },
  {
   "cell_type": "code",
   "execution_count": 9,
   "id": "b214eb9d",
   "metadata": {},
   "outputs": [
    {
     "data": {
      "text/html": [
       "<div>\n",
       "<style scoped>\n",
       "    .dataframe tbody tr th:only-of-type {\n",
       "        vertical-align: middle;\n",
       "    }\n",
       "\n",
       "    .dataframe tbody tr th {\n",
       "        vertical-align: top;\n",
       "    }\n",
       "\n",
       "    .dataframe thead th {\n",
       "        text-align: right;\n",
       "    }\n",
       "</style>\n",
       "<table border=\"1\" class=\"dataframe\">\n",
       "  <thead>\n",
       "    <tr style=\"text-align: right;\">\n",
       "      <th></th>\n",
       "      <th>time</th>\n",
       "      <th>.header.seq</th>\n",
       "      <th>.header.stamp.secs</th>\n",
       "      <th>.header.stamp.nsecs</th>\n",
       "      <th>.header.frame_id</th>\n",
       "      <th>.joy_x</th>\n",
       "      <th>.joy_y</th>\n",
       "      <th>.joy_r</th>\n",
       "      <th>.joy_f</th>\n",
       "      <th>.joy_fs</th>\n",
       "    </tr>\n",
       "  </thead>\n",
       "  <tbody>\n",
       "    <tr>\n",
       "      <th>0</th>\n",
       "      <td>2022/04/13/13:17:22.388795</td>\n",
       "      <td>1</td>\n",
       "      <td>1649823442</td>\n",
       "      <td>388674497</td>\n",
       "      <td>NaN</td>\n",
       "      <td>-0.001953</td>\n",
       "      <td>0.629292</td>\n",
       "      <td>0.0</td>\n",
       "      <td>0.082369</td>\n",
       "      <td>4.0</td>\n",
       "    </tr>\n",
       "    <tr>\n",
       "      <th>1</th>\n",
       "      <td>2022/04/13/13:17:22.453359</td>\n",
       "      <td>2</td>\n",
       "      <td>1649823442</td>\n",
       "      <td>452596426</td>\n",
       "      <td>NaN</td>\n",
       "      <td>-0.007996</td>\n",
       "      <td>0.633351</td>\n",
       "      <td>0.0</td>\n",
       "      <td>0.024751</td>\n",
       "      <td>1.0</td>\n",
       "    </tr>\n",
       "    <tr>\n",
       "      <th>2</th>\n",
       "      <td>2022/04/13/13:17:22.516762</td>\n",
       "      <td>3</td>\n",
       "      <td>1649823442</td>\n",
       "      <td>516623497</td>\n",
       "      <td>NaN</td>\n",
       "      <td>-0.016449</td>\n",
       "      <td>0.644917</td>\n",
       "      <td>0.0</td>\n",
       "      <td>-0.000000</td>\n",
       "      <td>0.0</td>\n",
       "    </tr>\n",
       "    <tr>\n",
       "      <th>3</th>\n",
       "      <td>2022/04/13/13:17:22.580912</td>\n",
       "      <td>4</td>\n",
       "      <td>1649823442</td>\n",
       "      <td>580574274</td>\n",
       "      <td>NaN</td>\n",
       "      <td>-0.017762</td>\n",
       "      <td>0.661519</td>\n",
       "      <td>0.0</td>\n",
       "      <td>-0.000000</td>\n",
       "      <td>0.0</td>\n",
       "    </tr>\n",
       "    <tr>\n",
       "      <th>4</th>\n",
       "      <td>2022/04/13/13:17:22.644906</td>\n",
       "      <td>5</td>\n",
       "      <td>1649823442</td>\n",
       "      <td>644766807</td>\n",
       "      <td>NaN</td>\n",
       "      <td>-0.020356</td>\n",
       "      <td>0.679098</td>\n",
       "      <td>0.0</td>\n",
       "      <td>-0.000000</td>\n",
       "      <td>0.0</td>\n",
       "    </tr>\n",
       "    <tr>\n",
       "      <th>...</th>\n",
       "      <td>...</td>\n",
       "      <td>...</td>\n",
       "      <td>...</td>\n",
       "      <td>...</td>\n",
       "      <td>...</td>\n",
       "      <td>...</td>\n",
       "      <td>...</td>\n",
       "      <td>...</td>\n",
       "      <td>...</td>\n",
       "      <td>...</td>\n",
       "    </tr>\n",
       "    <tr>\n",
       "      <th>658</th>\n",
       "      <td>2022/04/13/13:18:04.498635</td>\n",
       "      <td>659</td>\n",
       "      <td>1649823484</td>\n",
       "      <td>498252391</td>\n",
       "      <td>NaN</td>\n",
       "      <td>0.000000</td>\n",
       "      <td>0.000000</td>\n",
       "      <td>-0.0</td>\n",
       "      <td>-0.000000</td>\n",
       "      <td>0.0</td>\n",
       "    </tr>\n",
       "    <tr>\n",
       "      <th>659</th>\n",
       "      <td>2022/04/13/13:18:04.562541</td>\n",
       "      <td>660</td>\n",
       "      <td>1649823484</td>\n",
       "      <td>562239408</td>\n",
       "      <td>NaN</td>\n",
       "      <td>0.000000</td>\n",
       "      <td>0.000000</td>\n",
       "      <td>-0.0</td>\n",
       "      <td>-0.000000</td>\n",
       "      <td>0.0</td>\n",
       "    </tr>\n",
       "    <tr>\n",
       "      <th>660</th>\n",
       "      <td>2022/04/13/13:18:04.626632</td>\n",
       "      <td>661</td>\n",
       "      <td>1649823484</td>\n",
       "      <td>626288175</td>\n",
       "      <td>NaN</td>\n",
       "      <td>0.000000</td>\n",
       "      <td>0.000000</td>\n",
       "      <td>-0.0</td>\n",
       "      <td>-0.000000</td>\n",
       "      <td>0.0</td>\n",
       "    </tr>\n",
       "    <tr>\n",
       "      <th>661</th>\n",
       "      <td>2022/04/13/13:18:04.690758</td>\n",
       "      <td>662</td>\n",
       "      <td>1649823484</td>\n",
       "      <td>690424919</td>\n",
       "      <td>NaN</td>\n",
       "      <td>0.000000</td>\n",
       "      <td>0.000000</td>\n",
       "      <td>-0.0</td>\n",
       "      <td>-0.000000</td>\n",
       "      <td>0.0</td>\n",
       "    </tr>\n",
       "    <tr>\n",
       "      <th>662</th>\n",
       "      <td>2022/04/13/13:18:04.754632</td>\n",
       "      <td>663</td>\n",
       "      <td>1649823484</td>\n",
       "      <td>754250526</td>\n",
       "      <td>NaN</td>\n",
       "      <td>0.000000</td>\n",
       "      <td>0.000000</td>\n",
       "      <td>-0.0</td>\n",
       "      <td>-0.000000</td>\n",
       "      <td>0.0</td>\n",
       "    </tr>\n",
       "  </tbody>\n",
       "</table>\n",
       "<p>663 rows × 10 columns</p>\n",
       "</div>"
      ],
      "text/plain": [
       "                           time  .header.seq  .header.stamp.secs  \\\n",
       "0    2022/04/13/13:17:22.388795            1          1649823442   \n",
       "1    2022/04/13/13:17:22.453359            2          1649823442   \n",
       "2    2022/04/13/13:17:22.516762            3          1649823442   \n",
       "3    2022/04/13/13:17:22.580912            4          1649823442   \n",
       "4    2022/04/13/13:17:22.644906            5          1649823442   \n",
       "..                          ...          ...                 ...   \n",
       "658  2022/04/13/13:18:04.498635          659          1649823484   \n",
       "659  2022/04/13/13:18:04.562541          660          1649823484   \n",
       "660  2022/04/13/13:18:04.626632          661          1649823484   \n",
       "661  2022/04/13/13:18:04.690758          662          1649823484   \n",
       "662  2022/04/13/13:18:04.754632          663          1649823484   \n",
       "\n",
       "     .header.stamp.nsecs  .header.frame_id    .joy_x    .joy_y  .joy_r  \\\n",
       "0              388674497               NaN -0.001953  0.629292     0.0   \n",
       "1              452596426               NaN -0.007996  0.633351     0.0   \n",
       "2              516623497               NaN -0.016449  0.644917     0.0   \n",
       "3              580574274               NaN -0.017762  0.661519     0.0   \n",
       "4              644766807               NaN -0.020356  0.679098     0.0   \n",
       "..                   ...               ...       ...       ...     ...   \n",
       "658            498252391               NaN  0.000000  0.000000    -0.0   \n",
       "659            562239408               NaN  0.000000  0.000000    -0.0   \n",
       "660            626288175               NaN  0.000000  0.000000    -0.0   \n",
       "661            690424919               NaN  0.000000  0.000000    -0.0   \n",
       "662            754250526               NaN  0.000000  0.000000    -0.0   \n",
       "\n",
       "       .joy_f  .joy_fs  \n",
       "0    0.082369      4.0  \n",
       "1    0.024751      1.0  \n",
       "2   -0.000000      0.0  \n",
       "3   -0.000000      0.0  \n",
       "4   -0.000000      0.0  \n",
       "..        ...      ...  \n",
       "658 -0.000000      0.0  \n",
       "659 -0.000000      0.0  \n",
       "660 -0.000000      0.0  \n",
       "661 -0.000000      0.0  \n",
       "662 -0.000000      0.0  \n",
       "\n",
       "[663 rows x 10 columns]"
      ]
     },
     "execution_count": 9,
     "metadata": {},
     "output_type": "execute_result"
    }
   ],
   "source": [
    "df1"
   ]
  },
  {
   "cell_type": "code",
   "execution_count": 10,
   "id": "a1febd2a",
   "metadata": {},
   "outputs": [],
   "source": [
    "index = [\".joy_x\", \".joy_y\"]"
   ]
  },
  {
   "cell_type": "code",
   "execution_count": 11,
   "id": "5a16c95f",
   "metadata": {},
   "outputs": [
    {
     "data": {
      "text/plain": [
       "RangeIndex(start=0, stop=663, step=1)"
      ]
     },
     "execution_count": 11,
     "metadata": {},
     "output_type": "execute_result"
    }
   ],
   "source": [
    "df1.index"
   ]
  },
  {
   "cell_type": "code",
   "execution_count": 12,
   "id": "b8567d08",
   "metadata": {},
   "outputs": [],
   "source": [
    "df1 = df1[index]"
   ]
  },
  {
   "cell_type": "code",
   "execution_count": 13,
   "id": "95ab8ac0",
   "metadata": {
    "scrolled": false
   },
   "outputs": [
    {
     "data": {
      "text/html": [
       "<div>\n",
       "<style scoped>\n",
       "    .dataframe tbody tr th:only-of-type {\n",
       "        vertical-align: middle;\n",
       "    }\n",
       "\n",
       "    .dataframe tbody tr th {\n",
       "        vertical-align: top;\n",
       "    }\n",
       "\n",
       "    .dataframe thead th {\n",
       "        text-align: right;\n",
       "    }\n",
       "</style>\n",
       "<table border=\"1\" class=\"dataframe\">\n",
       "  <thead>\n",
       "    <tr style=\"text-align: right;\">\n",
       "      <th></th>\n",
       "      <th>.joy_x</th>\n",
       "      <th>.joy_y</th>\n",
       "    </tr>\n",
       "  </thead>\n",
       "  <tbody>\n",
       "    <tr>\n",
       "      <th>0</th>\n",
       "      <td>-0.001953</td>\n",
       "      <td>0.629292</td>\n",
       "    </tr>\n",
       "    <tr>\n",
       "      <th>1</th>\n",
       "      <td>-0.007996</td>\n",
       "      <td>0.633351</td>\n",
       "    </tr>\n",
       "    <tr>\n",
       "      <th>2</th>\n",
       "      <td>-0.016449</td>\n",
       "      <td>0.644917</td>\n",
       "    </tr>\n",
       "    <tr>\n",
       "      <th>3</th>\n",
       "      <td>-0.017762</td>\n",
       "      <td>0.661519</td>\n",
       "    </tr>\n",
       "    <tr>\n",
       "      <th>4</th>\n",
       "      <td>-0.020356</td>\n",
       "      <td>0.679098</td>\n",
       "    </tr>\n",
       "    <tr>\n",
       "      <th>...</th>\n",
       "      <td>...</td>\n",
       "      <td>...</td>\n",
       "    </tr>\n",
       "    <tr>\n",
       "      <th>658</th>\n",
       "      <td>0.000000</td>\n",
       "      <td>0.000000</td>\n",
       "    </tr>\n",
       "    <tr>\n",
       "      <th>659</th>\n",
       "      <td>0.000000</td>\n",
       "      <td>0.000000</td>\n",
       "    </tr>\n",
       "    <tr>\n",
       "      <th>660</th>\n",
       "      <td>0.000000</td>\n",
       "      <td>0.000000</td>\n",
       "    </tr>\n",
       "    <tr>\n",
       "      <th>661</th>\n",
       "      <td>0.000000</td>\n",
       "      <td>0.000000</td>\n",
       "    </tr>\n",
       "    <tr>\n",
       "      <th>662</th>\n",
       "      <td>0.000000</td>\n",
       "      <td>0.000000</td>\n",
       "    </tr>\n",
       "  </tbody>\n",
       "</table>\n",
       "<p>663 rows × 2 columns</p>\n",
       "</div>"
      ],
      "text/plain": [
       "       .joy_x    .joy_y\n",
       "0   -0.001953  0.629292\n",
       "1   -0.007996  0.633351\n",
       "2   -0.016449  0.644917\n",
       "3   -0.017762  0.661519\n",
       "4   -0.020356  0.679098\n",
       "..        ...       ...\n",
       "658  0.000000  0.000000\n",
       "659  0.000000  0.000000\n",
       "660  0.000000  0.000000\n",
       "661  0.000000  0.000000\n",
       "662  0.000000  0.000000\n",
       "\n",
       "[663 rows x 2 columns]"
      ]
     },
     "execution_count": 13,
     "metadata": {},
     "output_type": "execute_result"
    }
   ],
   "source": [
    "df1"
   ]
  },
  {
   "cell_type": "code",
   "execution_count": 14,
   "id": "06b9a418",
   "metadata": {},
   "outputs": [],
   "source": [
    "df2 = df2[index]"
   ]
  },
  {
   "cell_type": "code",
   "execution_count": 15,
   "id": "f9e8eac9",
   "metadata": {},
   "outputs": [],
   "source": [
    "df3 = df3[index]"
   ]
  },
  {
   "cell_type": "code",
   "execution_count": 16,
   "id": "b0fc8bab",
   "metadata": {},
   "outputs": [],
   "source": [
    "test_df = test_df[index]"
   ]
  },
  {
   "cell_type": "code",
   "execution_count": 17,
   "id": "a9ca88d1",
   "metadata": {},
   "outputs": [],
   "source": [
    "label1 = pd.read_csv(\".\\colonoscopy\\labels\\exp_20220413-131808.csv\")"
   ]
  },
  {
   "cell_type": "code",
   "execution_count": 18,
   "id": "312f0bed",
   "metadata": {},
   "outputs": [],
   "source": [
    "label2 = pd.read_csv(\".\\colonoscopy\\labels\\exp_20220413-134511.csv\")"
   ]
  },
  {
   "cell_type": "code",
   "execution_count": 19,
   "id": "8e3f9515",
   "metadata": {},
   "outputs": [],
   "source": [
    "label3 = pd.read_csv(\".\\colonoscopy\\labels\\exp_20220413-141532.csv\")"
   ]
  },
  {
   "cell_type": "code",
   "execution_count": 20,
   "id": "3ef8caa6",
   "metadata": {},
   "outputs": [],
   "source": [
    "test_label = pd.read_csv(\".\\colonoscopy\\labels\\exp_20220413-154612.csv\")"
   ]
  },
  {
   "cell_type": "code",
   "execution_count": 21,
   "id": "8aeab4c3",
   "metadata": {},
   "outputs": [],
   "source": [
    "label_index = [\"X\",\"Y\"]"
   ]
  },
  {
   "cell_type": "code",
   "execution_count": 22,
   "id": "9390302e",
   "metadata": {},
   "outputs": [],
   "source": [
    "label1 = label1[label_index]"
   ]
  },
  {
   "cell_type": "code",
   "execution_count": 23,
   "id": "cfbb7833",
   "metadata": {},
   "outputs": [
    {
     "data": {
      "text/html": [
       "<div>\n",
       "<style scoped>\n",
       "    .dataframe tbody tr th:only-of-type {\n",
       "        vertical-align: middle;\n",
       "    }\n",
       "\n",
       "    .dataframe tbody tr th {\n",
       "        vertical-align: top;\n",
       "    }\n",
       "\n",
       "    .dataframe thead th {\n",
       "        text-align: right;\n",
       "    }\n",
       "</style>\n",
       "<table border=\"1\" class=\"dataframe\">\n",
       "  <thead>\n",
       "    <tr style=\"text-align: right;\">\n",
       "      <th></th>\n",
       "      <th>X</th>\n",
       "      <th>Y</th>\n",
       "    </tr>\n",
       "  </thead>\n",
       "  <tbody>\n",
       "    <tr>\n",
       "      <th>0</th>\n",
       "      <td>325</td>\n",
       "      <td>469</td>\n",
       "    </tr>\n",
       "    <tr>\n",
       "      <th>1</th>\n",
       "      <td>324</td>\n",
       "      <td>469</td>\n",
       "    </tr>\n",
       "    <tr>\n",
       "      <th>2</th>\n",
       "      <td>324</td>\n",
       "      <td>469</td>\n",
       "    </tr>\n",
       "    <tr>\n",
       "      <th>3</th>\n",
       "      <td>324</td>\n",
       "      <td>469</td>\n",
       "    </tr>\n",
       "    <tr>\n",
       "      <th>4</th>\n",
       "      <td>324</td>\n",
       "      <td>469</td>\n",
       "    </tr>\n",
       "    <tr>\n",
       "      <th>...</th>\n",
       "      <td>...</td>\n",
       "      <td>...</td>\n",
       "    </tr>\n",
       "    <tr>\n",
       "      <th>658</th>\n",
       "      <td>12</td>\n",
       "      <td>467</td>\n",
       "    </tr>\n",
       "    <tr>\n",
       "      <th>659</th>\n",
       "      <td>12</td>\n",
       "      <td>467</td>\n",
       "    </tr>\n",
       "    <tr>\n",
       "      <th>660</th>\n",
       "      <td>11</td>\n",
       "      <td>473</td>\n",
       "    </tr>\n",
       "    <tr>\n",
       "      <th>661</th>\n",
       "      <td>9</td>\n",
       "      <td>474</td>\n",
       "    </tr>\n",
       "    <tr>\n",
       "      <th>662</th>\n",
       "      <td>9</td>\n",
       "      <td>474</td>\n",
       "    </tr>\n",
       "  </tbody>\n",
       "</table>\n",
       "<p>663 rows × 2 columns</p>\n",
       "</div>"
      ],
      "text/plain": [
       "       X    Y\n",
       "0    325  469\n",
       "1    324  469\n",
       "2    324  469\n",
       "3    324  469\n",
       "4    324  469\n",
       "..   ...  ...\n",
       "658   12  467\n",
       "659   12  467\n",
       "660   11  473\n",
       "661    9  474\n",
       "662    9  474\n",
       "\n",
       "[663 rows x 2 columns]"
      ]
     },
     "execution_count": 23,
     "metadata": {},
     "output_type": "execute_result"
    }
   ],
   "source": [
    "label1"
   ]
  },
  {
   "cell_type": "code",
   "execution_count": 24,
   "id": "8265df22",
   "metadata": {},
   "outputs": [],
   "source": [
    "label2 = label2[label_index]"
   ]
  },
  {
   "cell_type": "code",
   "execution_count": 25,
   "id": "4e040396",
   "metadata": {},
   "outputs": [],
   "source": [
    "label3 = label3[label_index]"
   ]
  },
  {
   "cell_type": "code",
   "execution_count": 26,
   "id": "589a1371",
   "metadata": {},
   "outputs": [],
   "source": [
    "test_label = test_label[label_index]"
   ]
  },
  {
   "cell_type": "code",
   "execution_count": 27,
   "id": "c98bfe49",
   "metadata": {},
   "outputs": [],
   "source": [
    "df_x1 = np.array(df1[\".joy_x\"])\n",
    "df_x2 = np.array(df2[\".joy_x\"])\n",
    "df_x3 = np.array(df3[\".joy_x\"])\n",
    "df_xt = np.array(test_df[\".joy_x\"])"
   ]
  },
  {
   "cell_type": "code",
   "execution_count": 28,
   "id": "623eb20a",
   "metadata": {},
   "outputs": [],
   "source": [
    "df_y1 = np.array(df1[\".joy_y\"])\n",
    "df_y2 = np.array(df2[\".joy_y\"])\n",
    "df_y3 = np.array(df3[\".joy_y\"])\n",
    "df_yt = np.array(test_df[\".joy_y\"])"
   ]
  },
  {
   "cell_type": "code",
   "execution_count": 29,
   "id": "09540707",
   "metadata": {},
   "outputs": [],
   "source": [
    "label_x1 = np.array(label1[\"X\"])\n",
    "label_x2 = np.array(label2[\"X\"])\n",
    "label_x3 = np.array(label3[\"X\"])\n",
    "label_xt = np.array(test_label[\"X\"])"
   ]
  },
  {
   "cell_type": "code",
   "execution_count": 30,
   "id": "9a4543e0",
   "metadata": {},
   "outputs": [],
   "source": [
    "label_y1 = np.array(label1[\"Y\"])\n",
    "label_y2 = np.array(label2[\"Y\"])\n",
    "label_y3 = np.array(label3[\"Y\"])\n",
    "label_yt = np.array(test_label[\"Y\"])"
   ]
  },
  {
   "cell_type": "markdown",
   "id": "11e8e18c",
   "metadata": {},
   "source": [
    "### input : pixel -----> output : joystick"
   ]
  },
  {
   "cell_type": "markdown",
   "id": "34ab2f15",
   "metadata": {},
   "source": [
    "#### normal"
   ]
  },
  {
   "cell_type": "code",
   "execution_count": 31,
   "id": "352eeb14",
   "metadata": {},
   "outputs": [],
   "source": [
    "def n_in(x):\n",
    "    temp = (x+1)/2\n",
    "    return temp\n",
    "def n_out_x(y):\n",
    "    temp = y/640\n",
    "    return temp\n",
    "def n_out_y(y):\n",
    "    temp = y/480\n",
    "    return temp"
   ]
  },
  {
   "cell_type": "code",
   "execution_count": 32,
   "id": "db617b49",
   "metadata": {},
   "outputs": [
    {
     "data": {
      "text/plain": [
       "[<matplotlib.lines.Line2D at 0x2602d6c7a48>]"
      ]
     },
     "execution_count": 32,
     "metadata": {},
     "output_type": "execute_result"
    },
    {
     "data": {
      "image/png": "[encoded data removed]",
      "text/plain": [
       "<Figure size 432x288 with 1 Axes>"
      ]
     },
     "metadata": {
      "needs_background": "light"
     },
     "output_type": "display_data"
    }
   ],
   "source": [
    "df_x_n1,df_x_n2,df_x_n3,df_xt_n = n_in(df_x1),n_in(df_x2),n_in(df_x3),n_in(df_xt)\n",
    "df_y_n1,df_y_n2,df_y_n3,df_yt_n = n_in(df_y1),n_in(df_y2),n_in(df_y3),n_in(df_yt)\n",
    "\n",
    "label_x_n1,label_x_n2,label_x_n3,label_xt_n, = n_out_x(label_x1),n_out_x(label_x2),n_out_x(label_x3),n_out_x(label_xt)\n",
    "label_y_n1,label_y_n2,label_y_n3,label_yt_n, = n_out_y(label_y1),n_out_y(label_y2),n_out_y(label_y3),n_out_y(label_yt)\n",
    "#df_y_n = (df_y - np.min(df_y))/np.ptp(df_y);\n",
    "#label_x_n = (label_x - np.min(label_x))/np.ptp(label_x);\n",
    "#label_y_n = (label_y - np.min(label_y))/np.ptp(label_y);\n",
    "plt.plot(label_y_n1)"
   ]
  },
  {
   "cell_type": "markdown",
   "id": "5d152025",
   "metadata": {},
   "source": [
    "#### squence"
   ]
  },
  {
   "cell_type": "code",
   "execution_count": 33,
   "id": "67f93f45",
   "metadata": {},
   "outputs": [],
   "source": [
    "s = 9"
   ]
  },
  {
   "cell_type": "code",
   "execution_count": 34,
   "id": "05f68316",
   "metadata": {},
   "outputs": [
    {
     "data": {
      "text/plain": [
       "(655, 733, 705)"
      ]
     },
     "execution_count": 34,
     "metadata": {},
     "output_type": "execute_result"
    }
   ],
   "source": [
    "len(df_x1)-s+1,len(df_x2)-s+1,len(df_x3)-s+1"
   ]
  },
  {
   "cell_type": "code",
   "execution_count": 35,
   "id": "17ba071a",
   "metadata": {},
   "outputs": [
    {
     "name": "stderr",
     "output_type": "stream",
     "text": [
      "C:\\Users\\raist\\Miniconda3\\envs\\machin\\lib\\site-packages\\ipykernel_launcher.py:10: UserWarning: Creating a tensor from a list of numpy.ndarrays is extremely slow. Please consider converting the list to a single numpy.ndarray with numpy.array() before converting to a tensor. (Triggered internally at  C:\\cb\\pytorch_1000000000000\\work\\torch\\csrc\\utils\\tensor_new.cpp:210.)\n",
      "  # Remove the CWD from sys.path while we load stuff.\n"
     ]
    }
   ],
   "source": [
    "temp_x = torch.zeros(len(df_x1)-s+1+len(df_x2)-s+1,s,2)\n",
    "temp_y = torch.zeros(len(df_x1)-s+1+len(df_x2)-s+1,1,2)\n",
    "\n",
    "temp_xt = torch.zeros(len(df_x3)-s+1,s,2)\n",
    "temp_yt = torch.zeros(len(df_x3)-s+1,1,2)\n",
    "\n",
    "# train\n",
    "#x\n",
    "for i in range(0,len(df_x1)-s+1):\n",
    "    temp_x[i]=np.transpose(torch.tensor([label_x_n1[i:i+s],label_y_n1[i:i+s]]))\n",
    "for i in range(0,len(df_x2)-s+1):\n",
    "    temp_x[i+len(df_x1)-s+1]=np.transpose(torch.tensor([label_x_n2[i:i+s],label_y_n2[i:i+s]]))\n",
    "#for i in range(0,len(df_x3)-15+1):\n",
    "#    temp_x[i+len(df_x1)-15+1+len(df_x2)-15+1]=np.transpose(torch.tensor([label_x_n3[i:i+15],label_y_n3[i:i+15]]))\n",
    "    \n",
    "#y\n",
    "\n",
    "for i in range(0,len(df_x1)-s+1):\n",
    "    temp_y[i] = torch.tensor([df_x_n1[i+s-1].item(),df_y_n1[i+s-1].item()])\n",
    "for i in range(0,len(df_x2)-s+1):\n",
    "    temp_y[i+len(df_x1)-s+1] = torch.tensor([df_x_n2[i+s-1].item(),df_y_n2[i+s-1].item()])\n",
    "#for i in range(0,len(df_x3)-15+1):\n",
    "#    temp_y[i+len(df_x1)-15+1+len(df_x2)-15+1] = torch.tensor([df_x_n3[i+14:i+15].item(),df_y_n3[i+14:i+15].item()])\n",
    "\n",
    "# test\n",
    "for i in range(0,len(df_x3)-s+1):\n",
    "    temp_xt[i]=np.transpose(torch.tensor([label_x_n3[i:i+s],label_y_n3[i:i+s]]))\n",
    "    \n",
    "for i in range(0,len(df_x3)-s+1):\n",
    "    temp_yt[i] = torch.tensor([df_x_n3[i+s-1].item(),df_y_n3[i+s-1].item()])\n",
    "    \n",
    "    "
   ]
  },
  {
   "cell_type": "code",
   "execution_count": 36,
   "id": "2cc06779",
   "metadata": {},
   "outputs": [
    {
     "data": {
      "text/plain": [
       "torch.Size([705, 9, 2])"
      ]
     },
     "execution_count": 36,
     "metadata": {},
     "output_type": "execute_result"
    }
   ],
   "source": [
    "temp_xt.size()"
   ]
  },
  {
   "cell_type": "markdown",
   "id": "f88ba3a0",
   "metadata": {},
   "source": [
    "### dataset 생성"
   ]
  },
  {
   "cell_type": "code",
   "execution_count": 37,
   "id": "a061aed7",
   "metadata": {
    "scrolled": true
   },
   "outputs": [],
   "source": [
    "train_data = TensorData(temp_x, temp_y)"
   ]
  },
  {
   "cell_type": "code",
   "execution_count": 38,
   "id": "e396b0fc",
   "metadata": {},
   "outputs": [],
   "source": [
    "BATCH_SIZE = 10\n",
    "\n",
    "train = TensorData(temp_x, temp_y)\n",
    "val = TensorData(temp_xt[:int(len(temp_xt)*0.5)],temp_yt[:int(len(temp_xt)*0.5)])\n",
    "test = TensorData(temp_xt[int(len(temp_xt)*0.5):],temp_yt[int(len(temp_xt)*0.5):])\n",
    "\n",
    "train_loader = torch.utils.data.DataLoader(dataset=train, batch_size=BATCH_SIZE, shuffle=False)\n",
    "val_loader = torch.utils.data.DataLoader(dataset=val, batch_size=BATCH_SIZE, shuffle=False)\n",
    "test_loader = torch.utils.data.DataLoader(dataset=test, batch_size=BATCH_SIZE, shuffle=False)"
   ]
  },
  {
   "cell_type": "code",
   "execution_count": 39,
   "id": "92fd2e94",
   "metadata": {},
   "outputs": [
    {
     "data": {
      "text/plain": [
       "torch.Size([352, 1, 2])"
      ]
     },
     "execution_count": 39,
     "metadata": {},
     "output_type": "execute_result"
    }
   ],
   "source": [
    "val.y_data.size()"
   ]
  },
  {
   "cell_type": "code",
   "execution_count": 40,
   "id": "d64b73b6",
   "metadata": {},
   "outputs": [],
   "source": [
    "#train_data_x = TensorData(df_x_n, label_x_n)"
   ]
  },
  {
   "cell_type": "code",
   "execution_count": 41,
   "id": "e9db3e57",
   "metadata": {},
   "outputs": [],
   "source": [
    "#train_data_y = TensorData(df_y_n, label_y_n)"
   ]
  },
  {
   "cell_type": "markdown",
   "id": "f6c31d09",
   "metadata": {},
   "source": [
    "### 모델 생성"
   ]
  },
  {
   "cell_type": "code",
   "execution_count": 42,
   "id": "8483d56e",
   "metadata": {},
   "outputs": [
    {
     "data": {
      "text/plain": [
       "9"
      ]
     },
     "execution_count": 42,
     "metadata": {},
     "output_type": "execute_result"
    }
   ],
   "source": [
    "s"
   ]
  },
  {
   "cell_type": "code",
   "execution_count": 43,
   "id": "fd5ec978",
   "metadata": {},
   "outputs": [],
   "source": [
    "import torch.nn as nn\n",
    "\n",
    "class Model(nn.Module):\n",
    "    def __init__(self,kernel = 5,in_channel=2, out_channel=2,out_channels=32,middle=1024,final = 1024):\n",
    "        super(Model, self).__init__()\n",
    "        self.conv1d_1 = nn.Conv1d(in_channels=in_channel,\n",
    "                                   out_channels=out_channels,\n",
    "                                   kernel_size = kernel,\n",
    "                                   stride = 1)\n",
    "\n",
    "        self.fc3 = nn.Linear((9-kernel+1)*out_channels,middle) # s-kernel\n",
    "        self.fc2 = nn.Linear(middle,final)\n",
    "        self.fc1 = nn.Linear(final,out_channel)\n",
    "            \n",
    "        self.relu = nn.ReLU()\n",
    "        \n",
    "        self.sigmoid = nn.Sigmoid()\n",
    "            \n",
    "        self.dropout = nn.Dropout(0.25)\n",
    "        self.flat = nn.Flatten()\n",
    "        \n",
    "    def forward(self,x): \n",
    "        # Raw x shape : (B, S, F)\n",
    "        # Shape : (B, F, S)\n",
    "        #print(x.size())\n",
    "        x = x.transpose(1,2)\n",
    "        \n",
    "        # Shape : (B, F, S) == (B, C, S)\n",
    "        x = self.conv1d_1(x)\n",
    "        # Shape : (B, C, S) \n",
    "        #print(x.size())\n",
    "        x = self.flat(x)\n",
    "        #x = x.transpose(1,2)\n",
    "        x = self.fc3(x)\n",
    "        #print(x.size())\n",
    "        #x = self.relu(x)\n",
    "        x = self.relu(x)\n",
    "        x = self.dropout(x)\n",
    "        x = self.fc2(x)\n",
    "        x = self.relu(x)\n",
    "        x = self.dropout(x)\n",
    "        x = self.fc1(x)\n",
    "        #print(x.size())\n",
    "                     \n",
    "                    \n",
    "                     \n",
    "        \n",
    "        return x\n",
    "\n"
   ]
  },
  {
   "cell_type": "markdown",
   "id": "7c6d7eb9",
   "metadata": {},
   "source": [
    "### 가중치 초기화"
   ]
  },
  {
   "cell_type": "markdown",
   "id": "85e3f694",
   "metadata": {},
   "source": [
    "#### 초기화를 위한 함수 만들기"
   ]
  },
  {
   "cell_type": "code",
   "execution_count": 44,
   "id": "51b6e1c5",
   "metadata": {},
   "outputs": [],
   "source": [
    "def init_constants(m):\n",
    "    if isinstance(m, nn.Linear):\n",
    "        nn.init.constant_(m.weight.data,0)\n",
    "        nn.init.constant_(m.bias.data, 0)\n",
    "        \n",
    "def init_normal(m):\n",
    "    if isinstance(m, nn.Linear):\n",
    "        nn.init.normal_(m.weight, 0, 1.0)\n",
    "        nn.init.normal_(m.bias, 0, 1.0)\n",
    "\n",
    "def init_xaiver(m):\n",
    "    if isinstance(m, nn.Linear):\n",
    "        nn.init.xavier_normal_(m.weight, 1.0)\n",
    "\n",
    "        \n",
    "def init_kaiming(m):\n",
    "    if isinstance(m, nn.Linear):\n",
    "        nn.init.kaiming_normal_(m.weight, 0, mode='fan_in', nonlinearity='leaky_relu')"
   ]
  },
  {
   "cell_type": "markdown",
   "id": "5cf1d62d",
   "metadata": {},
   "source": [
    "### 학습하기\n"
   ]
  },
  {
   "cell_type": "code",
   "execution_count": 45,
   "id": "706c74f8",
   "metadata": {
    "scrolled": true
   },
   "outputs": [],
   "source": [
    "def training_epoch(train_loader, network, loss_func, optimizer,scheduler, epoch):\n",
    "    train_losses = []\n",
    "    train_correct = 0\n",
    "    log_interval = 300\n",
    "    \n",
    "    \n",
    "    for batch_idx, (xb, label) in enumerate(train_loader):       \n",
    "        \n",
    "        xb, label = xb.to(device), label.to(device)\n",
    "        #print(xb)\n",
    "        batch_size = xb.size()[0]\n",
    "        #xb = xb.view(batch_size,-1)\n",
    "        label = label.view(batch_size,-1)\n",
    "        #print(label.size())\n",
    "        # 미분값의 초기화\n",
    "        optimizer.zero_grad()\n",
    "        #xb = xb.view(xb.shape[0],1)\n",
    "        #Forward propagation 계산\n",
    "        outputs = network(xb)\n",
    "        \n",
    "        # MSE 함수로 로스 구하기\n",
    "\n",
    "        loss = loss_func(outputs,label)\n",
    "        train_losses.append(loss.item())\n",
    "\n",
    "        # Gradinet 구하기\n",
    "        loss.backward()\n",
    "\n",
    "        # weight값 update 하기\n",
    "        optimizer.step()\n",
    "        #scheduler.step()\n",
    "\n",
    "        # 학습 상황 출력\n",
    "        if batch_idx % log_interval == 0:\n",
    "            print('Train Epoch: {} [{}/{} ({:.2f}%)]\\tLoss: {:.6f}'\n",
    "                  .format(epoch+1, batch_idx * len(label), len(train_loader.dataset),100. * batch_idx / len(train_loader),\n",
    "                          loss.item()))\n",
    "            print(\"lr: \", optimizer.param_groups[0]['lr'])\n",
    "            \n",
    "    return train_losses"
   ]
  },
  {
   "cell_type": "code",
   "execution_count": 46,
   "id": "aa13e786",
   "metadata": {},
   "outputs": [],
   "source": [
    "def test_epoch(test_loader, network, loss_func, val = False):\n",
    "    correct = 0\n",
    "    \n",
    "    test_losses = []\n",
    "    \n",
    "    with torch.no_grad():\n",
    "        for batch_idx, (xb, label) in enumerate(test_loader):\n",
    "            xb, label = xb.to(device), label.to(device)\n",
    "            batch_size = xb.size()[0]\n",
    "            #print(xb.size())\n",
    "            #xb = xb.view(batch_size,-1)\n",
    "            #print(label.size())\n",
    "            label = label.view(batch_size,-1)\n",
    "            #print(label.size())\n",
    "            #image = image.view([-1 , 1, 5])\n",
    "            # Forward propagration 계산하기.\n",
    "            outputs= network(xb)\n",
    "\n",
    "            # MSE 함수를 적용하여 loss를 구하기\n",
    "            loss = loss_func(outputs, label)\n",
    "            test_losses.append(loss.item())\n",
    "            avg_loss = np.mean(test_losses)\n",
    "\n",
    "\n",
    "        #중간결과 출력\n",
    "        if val is True:\n",
    "            print('Validation set: Loss: {:.5f}\\n'.format(avg_loss))\n",
    "        \n",
    "        else:\n",
    "            print('Test set: Loss: {:.5f}\\n'.format(avg_loss))\n",
    "        \n",
    "    return test_losses\n"
   ]
  },
  {
   "cell_type": "markdown",
   "id": "95272e16",
   "metadata": {},
   "source": [
    "### 정의된 함수로 학습 함수 만들기"
   ]
  },
  {
   "cell_type": "code",
   "execution_count": 47,
   "id": "b23f9075",
   "metadata": {},
   "outputs": [],
   "source": [
    "def training(network, learning_rate = 0.001, epoches = 100):\n",
    "    \n",
    "    \n",
    "    cls_loss = torch.nn.MSELoss().to(device)\n",
    "    optimizer =torch.optim.Adam(network.parameters(),learning_rate)\n",
    "#    scheduler = optim.lr_scheduler.LambdaLR(optimizer=optimizer,\n",
    "#                                        lr_lambda=lambda epoch: 0.95 ** epoch)\n",
    "\n",
    "#    optimizer = torch.optim.SGD(model1.parameters(), lr=learning_rate, momentum=0.9)\n",
    "    scheduler = torch.optim.lr_scheduler.ReduceLROnPlateau(optimizer, 'min')\n",
    "\n",
    "    train_losses_per_epoch = []\n",
    "    val_losses_per_epoch = []\n",
    "    test_losses_per_epoch = []\n",
    "  \n",
    "    for epoch in range(epoches):\n",
    "                \n",
    "        # 모델를 학습 중이라고 선언하기\n",
    "        network.train()\n",
    "        \n",
    "        train_losses = training_epoch(train_loader,network,cls_loss,optimizer,scheduler, epoch)\n",
    "        \n",
    "        # epoch 별로 loss 평균값, 정확도 구하기\n",
    "        average_loss = np.mean(train_losses)\n",
    "        train_losses_per_epoch.append(average_loss)\n",
    "        \n",
    "        \n",
    "        # epoch 별로 정확도 출력\n",
    "        print('\\nTraining set: Loss {:.6f}'.format(average_loss))\n",
    "\n",
    "        \n",
    "        ### 학습 중에 test 결과 보기\n",
    "        \n",
    "        # 모델 test 중인 것을 선언하기\n",
    "        network.eval()\n",
    "        \n",
    "        correct = 0\n",
    "        with torch.no_grad():\n",
    "            val_losses = test_epoch(val_loader, network, cls_loss, True)\n",
    "\n",
    "        val_losses_per_epoch.append(np.mean(val_losses))\n",
    "        scheduler.step(np.mean(val_losses))\n",
    "    with torch.no_grad():\n",
    "        test_losses = test_epoch(test_loader, network, cls_loss, False)\n",
    "        \n",
    "    \n",
    "        \n",
    "    return train_losses_per_epoch,val_losses_per_epoch\n"
   ]
  },
  {
   "cell_type": "markdown",
   "id": "d469b081",
   "metadata": {},
   "source": [
    "### x 훈련"
   ]
  },
  {
   "cell_type": "code",
   "execution_count": 48,
   "id": "fdeed164",
   "metadata": {},
   "outputs": [],
   "source": [
    "model1 = Model(kernel=7,out_channels=16,middle =512,final=256)\n",
    "model1 = model1.cuda()\n",
    "model1 = model1.apply(init_kaiming)     # relu\n",
    "#model1 = model1.apply(init_xaiver)      # sigmoid\n",
    "loss = nn.MSELoss()\n"
   ]
  },
  {
   "cell_type": "code",
   "execution_count": 49,
   "id": "bf0e73c8",
   "metadata": {},
   "outputs": [
    {
     "name": "stdout",
     "output_type": "stream",
     "text": [
      "Train Epoch: 1 [0/1388 (0.00%)]\tLoss: 1.963759\n",
      "lr:  0.0005\n",
      "\n",
      "Training set: Loss 0.158227\n",
      "Validation set: Loss: 0.17015\n",
      "\n",
      "Train Epoch: 2 [0/1388 (0.00%)]\tLoss: 0.038293\n",
      "lr:  0.0005\n",
      "\n",
      "Training set: Loss 0.044510\n",
      "Validation set: Loss: 0.05817\n",
      "\n",
      "Train Epoch: 3 [0/1388 (0.00%)]\tLoss: 0.023248\n",
      "lr:  0.0005\n",
      "\n",
      "Training set: Loss 0.035743\n",
      "Validation set: Loss: 0.03165\n",
      "\n",
      "Train Epoch: 4 [0/1388 (0.00%)]\tLoss: 0.011626\n",
      "lr:  0.0005\n",
      "\n",
      "Training set: Loss 0.033823\n",
      "Validation set: Loss: 0.02941\n",
      "\n",
      "Train Epoch: 5 [0/1388 (0.00%)]\tLoss: 0.008502\n",
      "lr:  0.0005\n",
      "\n",
      "Training set: Loss 0.031582\n",
      "Validation set: Loss: 0.03609\n",
      "\n",
      "Train Epoch: 6 [0/1388 (0.00%)]\tLoss: 0.006296\n",
      "lr:  0.0005\n",
      "\n",
      "Training set: Loss 0.028828\n",
      "Validation set: Loss: 0.05424\n",
      "\n",
      "Train Epoch: 7 [0/1388 (0.00%)]\tLoss: 0.006394\n",
      "lr:  0.0005\n",
      "\n",
      "Training set: Loss 0.028947\n",
      "Validation set: Loss: 0.04326\n",
      "\n",
      "Train Epoch: 8 [0/1388 (0.00%)]\tLoss: 0.009022\n",
      "lr:  0.0005\n",
      "\n",
      "Training set: Loss 0.028136\n",
      "Validation set: Loss: 0.04499\n",
      "\n",
      "Train Epoch: 9 [0/1388 (0.00%)]\tLoss: 0.011722\n",
      "lr:  0.0005\n",
      "\n",
      "Training set: Loss 0.026776\n",
      "Validation set: Loss: 0.05978\n",
      "\n",
      "Train Epoch: 10 [0/1388 (0.00%)]\tLoss: 0.013911\n",
      "lr:  0.0005\n",
      "\n",
      "Training set: Loss 0.027120\n",
      "Validation set: Loss: 0.05775\n",
      "\n",
      "Train Epoch: 11 [0/1388 (0.00%)]\tLoss: 0.009752\n",
      "lr:  0.0005\n",
      "\n",
      "Training set: Loss 0.026468\n",
      "Validation set: Loss: 0.05756\n",
      "\n",
      "Train Epoch: 12 [0/1388 (0.00%)]\tLoss: 0.003446\n",
      "lr:  0.0005\n",
      "\n",
      "Training set: Loss 0.026277\n",
      "Validation set: Loss: 0.05749\n",
      "\n",
      "Train Epoch: 13 [0/1388 (0.00%)]\tLoss: 0.012883\n",
      "lr:  0.0005\n",
      "\n",
      "Training set: Loss 0.025053\n",
      "Validation set: Loss: 0.06600\n",
      "\n",
      "Train Epoch: 14 [0/1388 (0.00%)]\tLoss: 0.009556\n",
      "lr:  0.0005\n",
      "\n",
      "Training set: Loss 0.024902\n",
      "Validation set: Loss: 0.06437\n",
      "\n",
      "Train Epoch: 15 [0/1388 (0.00%)]\tLoss: 0.008447\n",
      "lr:  0.0005\n",
      "\n",
      "Training set: Loss 0.023647\n",
      "Validation set: Loss: 0.06461\n",
      "\n",
      "Train Epoch: 16 [0/1388 (0.00%)]\tLoss: 0.004274\n",
      "lr:  5e-05\n",
      "\n",
      "Training set: Loss 0.021792\n",
      "Validation set: Loss: 0.04076\n",
      "\n",
      "Train Epoch: 17 [0/1388 (0.00%)]\tLoss: 0.015263\n",
      "lr:  5e-05\n",
      "\n",
      "Training set: Loss 0.020478\n",
      "Validation set: Loss: 0.03471\n",
      "\n",
      "Train Epoch: 18 [0/1388 (0.00%)]\tLoss: 0.011762\n",
      "lr:  5e-05\n",
      "\n",
      "Training set: Loss 0.020948\n",
      "Validation set: Loss: 0.03494\n",
      "\n",
      "Train Epoch: 19 [0/1388 (0.00%)]\tLoss: 0.017691\n",
      "lr:  5e-05\n",
      "\n",
      "Training set: Loss 0.020821\n",
      "Validation set: Loss: 0.03385\n",
      "\n",
      "Train Epoch: 20 [0/1388 (0.00%)]\tLoss: 0.013769\n",
      "lr:  5e-05\n",
      "\n",
      "Training set: Loss 0.020488\n",
      "Validation set: Loss: 0.03350\n",
      "\n",
      "Train Epoch: 21 [0/1388 (0.00%)]\tLoss: 0.014364\n",
      "lr:  5e-05\n",
      "\n",
      "Training set: Loss 0.020384\n",
      "Validation set: Loss: 0.03149\n",
      "\n",
      "Train Epoch: 22 [0/1388 (0.00%)]\tLoss: 0.008246\n",
      "lr:  5e-05\n",
      "\n",
      "Training set: Loss 0.020819\n",
      "Validation set: Loss: 0.03377\n",
      "\n",
      "Train Epoch: 23 [0/1388 (0.00%)]\tLoss: 0.016379\n",
      "lr:  5e-05\n",
      "\n",
      "Training set: Loss 0.020127\n",
      "Validation set: Loss: 0.03310\n",
      "\n",
      "Train Epoch: 24 [0/1388 (0.00%)]\tLoss: 0.014448\n",
      "lr:  5e-05\n",
      "\n",
      "Training set: Loss 0.019673\n",
      "Validation set: Loss: 0.03154\n",
      "\n",
      "Train Epoch: 25 [0/1388 (0.00%)]\tLoss: 0.006322\n",
      "lr:  5e-05\n",
      "\n",
      "Training set: Loss 0.020065\n",
      "Validation set: Loss: 0.03152\n",
      "\n",
      "Train Epoch: 26 [0/1388 (0.00%)]\tLoss: 0.009725\n",
      "lr:  5e-05\n",
      "\n",
      "Training set: Loss 0.020023\n",
      "Validation set: Loss: 0.03133\n",
      "\n",
      "Train Epoch: 27 [0/1388 (0.00%)]\tLoss: 0.007109\n",
      "lr:  5e-06\n",
      "\n",
      "Training set: Loss 0.019997\n",
      "Validation set: Loss: 0.03413\n",
      "\n",
      "Train Epoch: 28 [0/1388 (0.00%)]\tLoss: 0.006272\n",
      "lr:  5e-06\n",
      "\n",
      "Training set: Loss 0.019641\n",
      "Validation set: Loss: 0.03617\n",
      "\n",
      "Train Epoch: 29 [0/1388 (0.00%)]\tLoss: 0.004619\n",
      "lr:  5e-06\n",
      "\n",
      "Training set: Loss 0.019902\n",
      "Validation set: Loss: 0.03702\n",
      "\n",
      "Train Epoch: 30 [0/1388 (0.00%)]\tLoss: 0.003999\n",
      "lr:  5e-06\n",
      "\n",
      "Training set: Loss 0.019383\n",
      "Validation set: Loss: 0.03833\n",
      "\n",
      "Train Epoch: 31 [0/1388 (0.00%)]\tLoss: 0.006901\n",
      "lr:  5e-06\n",
      "\n",
      "Training set: Loss 0.019438\n",
      "Validation set: Loss: 0.03866\n",
      "\n",
      "Train Epoch: 32 [0/1388 (0.00%)]\tLoss: 0.005417\n",
      "lr:  5e-06\n",
      "\n",
      "Training set: Loss 0.020049\n",
      "Validation set: Loss: 0.03883\n",
      "\n",
      "Train Epoch: 33 [0/1388 (0.00%)]\tLoss: 0.007760\n",
      "lr:  5e-06\n",
      "\n",
      "Training set: Loss 0.019428\n",
      "Validation set: Loss: 0.03938\n",
      "\n",
      "Train Epoch: 34 [0/1388 (0.00%)]\tLoss: 0.008605\n",
      "lr:  5e-06\n",
      "\n",
      "Training set: Loss 0.019204\n",
      "Validation set: Loss: 0.03963\n",
      "\n",
      "Train Epoch: 35 [0/1388 (0.00%)]\tLoss: 0.006216\n",
      "lr:  5e-06\n",
      "\n",
      "Training set: Loss 0.019319\n",
      "Validation set: Loss: 0.03982\n",
      "\n",
      "Train Epoch: 36 [0/1388 (0.00%)]\tLoss: 0.006844\n",
      "lr:  5e-06\n",
      "\n",
      "Training set: Loss 0.019391\n",
      "Validation set: Loss: 0.04019\n",
      "\n",
      "Train Epoch: 37 [0/1388 (0.00%)]\tLoss: 0.008937\n",
      "lr:  5e-06\n",
      "\n",
      "Training set: Loss 0.018816\n",
      "Validation set: Loss: 0.04022\n",
      "\n",
      "Train Epoch: 38 [0/1388 (0.00%)]\tLoss: 0.006937\n",
      "lr:  5.000000000000001e-07\n",
      "\n",
      "Training set: Loss 0.018951\n",
      "Validation set: Loss: 0.04028\n",
      "\n",
      "Train Epoch: 39 [0/1388 (0.00%)]\tLoss: 0.007178\n",
      "lr:  5.000000000000001e-07\n",
      "\n",
      "Training set: Loss 0.018900\n",
      "Validation set: Loss: 0.04028\n",
      "\n",
      "Train Epoch: 40 [0/1388 (0.00%)]\tLoss: 0.003447\n",
      "lr:  5.000000000000001e-07\n",
      "\n",
      "Training set: Loss 0.018673\n",
      "Validation set: Loss: 0.04038\n",
      "\n",
      "Train Epoch: 41 [0/1388 (0.00%)]\tLoss: 0.003429\n",
      "lr:  5.000000000000001e-07\n",
      "\n",
      "Training set: Loss 0.018979\n",
      "Validation set: Loss: 0.04042\n",
      "\n",
      "Train Epoch: 42 [0/1388 (0.00%)]\tLoss: 0.013302\n",
      "lr:  5.000000000000001e-07\n",
      "\n",
      "Training set: Loss 0.019144\n",
      "Validation set: Loss: 0.04052\n",
      "\n",
      "Train Epoch: 43 [0/1388 (0.00%)]\tLoss: 0.003764\n",
      "lr:  5.000000000000001e-07\n",
      "\n",
      "Training set: Loss 0.019218\n",
      "Validation set: Loss: 0.04061\n",
      "\n",
      "Train Epoch: 44 [0/1388 (0.00%)]\tLoss: 0.007581\n",
      "lr:  5.000000000000001e-07\n",
      "\n",
      "Training set: Loss 0.019139\n",
      "Validation set: Loss: 0.04070\n",
      "\n",
      "Train Epoch: 45 [0/1388 (0.00%)]\tLoss: 0.006955\n",
      "lr:  5.000000000000001e-07\n",
      "\n",
      "Training set: Loss 0.018870\n",
      "Validation set: Loss: 0.04080\n",
      "\n",
      "Train Epoch: 46 [0/1388 (0.00%)]\tLoss: 0.009314\n",
      "lr:  5.000000000000001e-07\n",
      "\n",
      "Training set: Loss 0.018872\n",
      "Validation set: Loss: 0.04086\n",
      "\n",
      "Train Epoch: 47 [0/1388 (0.00%)]\tLoss: 0.006285\n",
      "lr:  5.000000000000001e-07\n",
      "\n",
      "Training set: Loss 0.019508\n",
      "Validation set: Loss: 0.04092\n",
      "\n",
      "Train Epoch: 48 [0/1388 (0.00%)]\tLoss: 0.005783\n",
      "lr:  5.000000000000001e-07\n",
      "\n",
      "Training set: Loss 0.018582\n",
      "Validation set: Loss: 0.04097\n",
      "\n",
      "Train Epoch: 49 [0/1388 (0.00%)]\tLoss: 0.007784\n",
      "lr:  5.000000000000001e-08\n",
      "\n",
      "Training set: Loss 0.018633\n",
      "Validation set: Loss: 0.04098\n",
      "\n",
      "Train Epoch: 50 [0/1388 (0.00%)]\tLoss: 0.013888\n",
      "lr:  5.000000000000001e-08\n",
      "\n",
      "Training set: Loss 0.019494\n",
      "Validation set: Loss: 0.04099\n",
      "\n",
      "Train Epoch: 51 [0/1388 (0.00%)]\tLoss: 0.006470\n",
      "lr:  5.000000000000001e-08\n",
      "\n",
      "Training set: Loss 0.018687\n",
      "Validation set: Loss: 0.04100\n",
      "\n",
      "Train Epoch: 52 [0/1388 (0.00%)]\tLoss: 0.008054\n",
      "lr:  5.000000000000001e-08\n",
      "\n",
      "Training set: Loss 0.019031\n",
      "Validation set: Loss: 0.04101\n",
      "\n",
      "Train Epoch: 53 [0/1388 (0.00%)]\tLoss: 0.006423\n",
      "lr:  5.000000000000001e-08\n",
      "\n",
      "Training set: Loss 0.018542\n",
      "Validation set: Loss: 0.04102\n",
      "\n",
      "Train Epoch: 54 [0/1388 (0.00%)]\tLoss: 0.003975\n",
      "lr:  5.000000000000001e-08\n",
      "\n",
      "Training set: Loss 0.018436\n",
      "Validation set: Loss: 0.04102\n",
      "\n",
      "Train Epoch: 55 [0/1388 (0.00%)]\tLoss: 0.007339\n",
      "lr:  5.000000000000001e-08\n",
      "\n",
      "Training set: Loss 0.019275\n",
      "Validation set: Loss: 0.04104\n",
      "\n",
      "Train Epoch: 56 [0/1388 (0.00%)]\tLoss: 0.005277\n",
      "lr:  5.000000000000001e-08\n",
      "\n",
      "Training set: Loss 0.018824\n",
      "Validation set: Loss: 0.04105\n",
      "\n",
      "Train Epoch: 57 [0/1388 (0.00%)]\tLoss: 0.004060\n",
      "lr:  5.000000000000001e-08\n",
      "\n",
      "Training set: Loss 0.018958\n",
      "Validation set: Loss: 0.04106\n",
      "\n",
      "Train Epoch: 58 [0/1388 (0.00%)]\tLoss: 0.005368\n",
      "lr:  5.000000000000001e-08\n",
      "\n",
      "Training set: Loss 0.019303\n",
      "Validation set: Loss: 0.04107\n",
      "\n",
      "Train Epoch: 59 [0/1388 (0.00%)]\tLoss: 0.009639\n",
      "lr:  5.000000000000001e-08\n",
      "\n",
      "Training set: Loss 0.019480\n",
      "Validation set: Loss: 0.04108\n",
      "\n",
      "Train Epoch: 60 [0/1388 (0.00%)]\tLoss: 0.006773\n",
      "lr:  5.000000000000002e-09\n",
      "\n",
      "Training set: Loss 0.019056\n",
      "Validation set: Loss: 0.04108\n",
      "\n",
      "Train Epoch: 61 [0/1388 (0.00%)]\tLoss: 0.003549\n",
      "lr:  5.000000000000002e-09\n",
      "\n",
      "Training set: Loss 0.018449\n",
      "Validation set: Loss: 0.04108\n",
      "\n",
      "Train Epoch: 62 [0/1388 (0.00%)]\tLoss: 0.009479\n",
      "lr:  5.000000000000002e-09\n",
      "\n",
      "Training set: Loss 0.019563\n",
      "Validation set: Loss: 0.04108\n",
      "\n",
      "Train Epoch: 63 [0/1388 (0.00%)]\tLoss: 0.011115\n",
      "lr:  5.000000000000002e-09\n",
      "\n",
      "Training set: Loss 0.019046\n",
      "Validation set: Loss: 0.04108\n",
      "\n",
      "Train Epoch: 64 [0/1388 (0.00%)]\tLoss: 0.003255\n",
      "lr:  5.000000000000002e-09\n",
      "\n",
      "Training set: Loss 0.019115\n",
      "Validation set: Loss: 0.04108\n",
      "\n",
      "Train Epoch: 65 [0/1388 (0.00%)]\tLoss: 0.004016\n",
      "lr:  5.000000000000002e-09\n",
      "\n",
      "Training set: Loss 0.018573\n",
      "Validation set: Loss: 0.04108\n",
      "\n",
      "Train Epoch: 66 [0/1388 (0.00%)]\tLoss: 0.005665\n",
      "lr:  5.000000000000002e-09\n"
     ]
    },
    {
     "name": "stdout",
     "output_type": "stream",
     "text": [
      "\n",
      "Training set: Loss 0.018792\n",
      "Validation set: Loss: 0.04108\n",
      "\n",
      "Train Epoch: 67 [0/1388 (0.00%)]\tLoss: 0.010046\n",
      "lr:  5.000000000000002e-09\n",
      "\n",
      "Training set: Loss 0.019475\n",
      "Validation set: Loss: 0.04108\n",
      "\n",
      "Train Epoch: 68 [0/1388 (0.00%)]\tLoss: 0.009890\n",
      "lr:  5.000000000000002e-09\n",
      "\n",
      "Training set: Loss 0.019313\n",
      "Validation set: Loss: 0.04109\n",
      "\n",
      "Train Epoch: 69 [0/1388 (0.00%)]\tLoss: 0.009016\n",
      "lr:  5.000000000000002e-09\n",
      "\n",
      "Training set: Loss 0.018577\n",
      "Validation set: Loss: 0.04109\n",
      "\n",
      "Train Epoch: 70 [0/1388 (0.00%)]\tLoss: 0.009991\n",
      "lr:  5.000000000000002e-09\n",
      "\n",
      "Training set: Loss 0.019241\n",
      "Validation set: Loss: 0.04109\n",
      "\n",
      "Train Epoch: 71 [0/1388 (0.00%)]\tLoss: 0.002739\n",
      "lr:  5.000000000000002e-09\n",
      "\n",
      "Training set: Loss 0.019478\n",
      "Validation set: Loss: 0.04109\n",
      "\n",
      "Train Epoch: 72 [0/1388 (0.00%)]\tLoss: 0.006326\n",
      "lr:  5.000000000000002e-09\n",
      "\n",
      "Training set: Loss 0.019029\n",
      "Validation set: Loss: 0.04109\n",
      "\n",
      "Train Epoch: 73 [0/1388 (0.00%)]\tLoss: 0.005312\n",
      "lr:  5.000000000000002e-09\n",
      "\n",
      "Training set: Loss 0.018771\n",
      "Validation set: Loss: 0.04109\n",
      "\n",
      "Train Epoch: 74 [0/1388 (0.00%)]\tLoss: 0.003783\n",
      "lr:  5.000000000000002e-09\n",
      "\n",
      "Training set: Loss 0.019143\n",
      "Validation set: Loss: 0.04109\n",
      "\n",
      "Train Epoch: 75 [0/1388 (0.00%)]\tLoss: 0.005951\n",
      "lr:  5.000000000000002e-09\n",
      "\n",
      "Training set: Loss 0.019211\n",
      "Validation set: Loss: 0.04109\n",
      "\n",
      "Train Epoch: 76 [0/1388 (0.00%)]\tLoss: 0.005034\n",
      "lr:  5.000000000000002e-09\n",
      "\n",
      "Training set: Loss 0.018513\n",
      "Validation set: Loss: 0.04109\n",
      "\n",
      "Train Epoch: 77 [0/1388 (0.00%)]\tLoss: 0.003740\n",
      "lr:  5.000000000000002e-09\n",
      "\n",
      "Training set: Loss 0.018986\n",
      "Validation set: Loss: 0.04109\n",
      "\n",
      "Train Epoch: 78 [0/1388 (0.00%)]\tLoss: 0.002931\n",
      "lr:  5.000000000000002e-09\n",
      "\n",
      "Training set: Loss 0.019036\n",
      "Validation set: Loss: 0.04109\n",
      "\n",
      "Train Epoch: 79 [0/1388 (0.00%)]\tLoss: 0.007537\n",
      "lr:  5.000000000000002e-09\n",
      "\n",
      "Training set: Loss 0.018886\n",
      "Validation set: Loss: 0.04109\n",
      "\n",
      "Train Epoch: 80 [0/1388 (0.00%)]\tLoss: 0.010790\n",
      "lr:  5.000000000000002e-09\n",
      "\n",
      "Training set: Loss 0.019209\n",
      "Validation set: Loss: 0.04109\n",
      "\n",
      "Train Epoch: 81 [0/1388 (0.00%)]\tLoss: 0.010505\n",
      "lr:  5.000000000000002e-09\n",
      "\n",
      "Training set: Loss 0.019086\n",
      "Validation set: Loss: 0.04109\n",
      "\n",
      "Train Epoch: 82 [0/1388 (0.00%)]\tLoss: 0.007124\n",
      "lr:  5.000000000000002e-09\n",
      "\n",
      "Training set: Loss 0.019813\n",
      "Validation set: Loss: 0.04109\n",
      "\n",
      "Train Epoch: 83 [0/1388 (0.00%)]\tLoss: 0.008942\n",
      "lr:  5.000000000000002e-09\n",
      "\n",
      "Training set: Loss 0.018697\n",
      "Validation set: Loss: 0.04109\n",
      "\n",
      "Train Epoch: 84 [0/1388 (0.00%)]\tLoss: 0.011220\n",
      "lr:  5.000000000000002e-09\n",
      "\n",
      "Training set: Loss 0.018297\n",
      "Validation set: Loss: 0.04109\n",
      "\n",
      "Train Epoch: 85 [0/1388 (0.00%)]\tLoss: 0.010956\n",
      "lr:  5.000000000000002e-09\n",
      "\n",
      "Training set: Loss 0.018731\n",
      "Validation set: Loss: 0.04109\n",
      "\n",
      "Train Epoch: 86 [0/1388 (0.00%)]\tLoss: 0.002537\n",
      "lr:  5.000000000000002e-09\n",
      "\n",
      "Training set: Loss 0.018722\n",
      "Validation set: Loss: 0.04110\n",
      "\n",
      "Train Epoch: 87 [0/1388 (0.00%)]\tLoss: 0.005550\n",
      "lr:  5.000000000000002e-09\n",
      "\n",
      "Training set: Loss 0.018654\n",
      "Validation set: Loss: 0.04110\n",
      "\n",
      "Train Epoch: 88 [0/1388 (0.00%)]\tLoss: 0.006716\n",
      "lr:  5.000000000000002e-09\n",
      "\n",
      "Training set: Loss 0.018769\n",
      "Validation set: Loss: 0.04110\n",
      "\n",
      "Train Epoch: 89 [0/1388 (0.00%)]\tLoss: 0.004944\n",
      "lr:  5.000000000000002e-09\n",
      "\n",
      "Training set: Loss 0.018852\n",
      "Validation set: Loss: 0.04110\n",
      "\n",
      "Train Epoch: 90 [0/1388 (0.00%)]\tLoss: 0.007204\n",
      "lr:  5.000000000000002e-09\n",
      "\n",
      "Training set: Loss 0.018522\n",
      "Validation set: Loss: 0.04110\n",
      "\n",
      "Train Epoch: 91 [0/1388 (0.00%)]\tLoss: 0.002387\n",
      "lr:  5.000000000000002e-09\n",
      "\n",
      "Training set: Loss 0.018958\n",
      "Validation set: Loss: 0.04110\n",
      "\n",
      "Train Epoch: 92 [0/1388 (0.00%)]\tLoss: 0.009496\n",
      "lr:  5.000000000000002e-09\n",
      "\n",
      "Training set: Loss 0.018927\n",
      "Validation set: Loss: 0.04110\n",
      "\n",
      "Train Epoch: 93 [0/1388 (0.00%)]\tLoss: 0.006400\n",
      "lr:  5.000000000000002e-09\n",
      "\n",
      "Training set: Loss 0.019198\n",
      "Validation set: Loss: 0.04110\n",
      "\n",
      "Train Epoch: 94 [0/1388 (0.00%)]\tLoss: 0.008299\n",
      "lr:  5.000000000000002e-09\n",
      "\n",
      "Training set: Loss 0.019383\n",
      "Validation set: Loss: 0.04110\n",
      "\n",
      "Train Epoch: 95 [0/1388 (0.00%)]\tLoss: 0.005190\n",
      "lr:  5.000000000000002e-09\n",
      "\n",
      "Training set: Loss 0.019528\n",
      "Validation set: Loss: 0.04110\n",
      "\n",
      "Train Epoch: 96 [0/1388 (0.00%)]\tLoss: 0.007960\n",
      "lr:  5.000000000000002e-09\n",
      "\n",
      "Training set: Loss 0.019243\n",
      "Validation set: Loss: 0.04110\n",
      "\n",
      "Train Epoch: 97 [0/1388 (0.00%)]\tLoss: 0.007866\n",
      "lr:  5.000000000000002e-09\n",
      "\n",
      "Training set: Loss 0.019211\n",
      "Validation set: Loss: 0.04110\n",
      "\n",
      "Train Epoch: 98 [0/1388 (0.00%)]\tLoss: 0.005707\n",
      "lr:  5.000000000000002e-09\n",
      "\n",
      "Training set: Loss 0.019335\n",
      "Validation set: Loss: 0.04110\n",
      "\n",
      "Train Epoch: 99 [0/1388 (0.00%)]\tLoss: 0.008086\n",
      "lr:  5.000000000000002e-09\n",
      "\n",
      "Training set: Loss 0.018841\n",
      "Validation set: Loss: 0.04111\n",
      "\n",
      "Train Epoch: 100 [0/1388 (0.00%)]\tLoss: 0.004403\n",
      "lr:  5.000000000000002e-09\n",
      "\n",
      "Training set: Loss 0.019364\n",
      "Validation set: Loss: 0.04111\n",
      "\n",
      "Train Epoch: 101 [0/1388 (0.00%)]\tLoss: 0.005419\n",
      "lr:  5.000000000000002e-09\n",
      "\n",
      "Training set: Loss 0.018813\n",
      "Validation set: Loss: 0.04111\n",
      "\n",
      "Train Epoch: 102 [0/1388 (0.00%)]\tLoss: 0.006212\n",
      "lr:  5.000000000000002e-09\n",
      "\n",
      "Training set: Loss 0.018947\n",
      "Validation set: Loss: 0.04111\n",
      "\n",
      "Train Epoch: 103 [0/1388 (0.00%)]\tLoss: 0.007863\n",
      "lr:  5.000000000000002e-09\n",
      "\n",
      "Training set: Loss 0.019129\n",
      "Validation set: Loss: 0.04111\n",
      "\n",
      "Train Epoch: 104 [0/1388 (0.00%)]\tLoss: 0.005487\n",
      "lr:  5.000000000000002e-09\n",
      "\n",
      "Training set: Loss 0.019280\n",
      "Validation set: Loss: 0.04111\n",
      "\n",
      "Train Epoch: 105 [0/1388 (0.00%)]\tLoss: 0.002800\n",
      "lr:  5.000000000000002e-09\n",
      "\n",
      "Training set: Loss 0.019456\n",
      "Validation set: Loss: 0.04111\n",
      "\n",
      "Train Epoch: 106 [0/1388 (0.00%)]\tLoss: 0.004751\n",
      "lr:  5.000000000000002e-09\n",
      "\n",
      "Training set: Loss 0.019266\n",
      "Validation set: Loss: 0.04111\n",
      "\n",
      "Train Epoch: 107 [0/1388 (0.00%)]\tLoss: 0.010374\n",
      "lr:  5.000000000000002e-09\n",
      "\n",
      "Training set: Loss 0.019177\n",
      "Validation set: Loss: 0.04111\n",
      "\n",
      "Train Epoch: 108 [0/1388 (0.00%)]\tLoss: 0.007512\n",
      "lr:  5.000000000000002e-09\n",
      "\n",
      "Training set: Loss 0.018993\n",
      "Validation set: Loss: 0.04111\n",
      "\n",
      "Train Epoch: 109 [0/1388 (0.00%)]\tLoss: 0.003288\n",
      "lr:  5.000000000000002e-09\n",
      "\n",
      "Training set: Loss 0.019323\n",
      "Validation set: Loss: 0.04111\n",
      "\n",
      "Train Epoch: 110 [0/1388 (0.00%)]\tLoss: 0.003925\n",
      "lr:  5.000000000000002e-09\n",
      "\n",
      "Training set: Loss 0.019093\n",
      "Validation set: Loss: 0.04111\n",
      "\n",
      "Train Epoch: 111 [0/1388 (0.00%)]\tLoss: 0.007526\n",
      "lr:  5.000000000000002e-09\n",
      "\n",
      "Training set: Loss 0.019070\n",
      "Validation set: Loss: 0.04111\n",
      "\n",
      "Train Epoch: 112 [0/1388 (0.00%)]\tLoss: 0.003827\n",
      "lr:  5.000000000000002e-09\n",
      "\n",
      "Training set: Loss 0.018810\n",
      "Validation set: Loss: 0.04111\n",
      "\n",
      "Train Epoch: 113 [0/1388 (0.00%)]\tLoss: 0.011290\n",
      "lr:  5.000000000000002e-09\n",
      "\n",
      "Training set: Loss 0.019481\n",
      "Validation set: Loss: 0.04111\n",
      "\n",
      "Train Epoch: 114 [0/1388 (0.00%)]\tLoss: 0.005435\n",
      "lr:  5.000000000000002e-09\n",
      "\n",
      "Training set: Loss 0.019648\n",
      "Validation set: Loss: 0.04111\n",
      "\n",
      "Train Epoch: 115 [0/1388 (0.00%)]\tLoss: 0.006180\n",
      "lr:  5.000000000000002e-09\n",
      "\n",
      "Training set: Loss 0.019460\n",
      "Validation set: Loss: 0.04111\n",
      "\n",
      "Train Epoch: 116 [0/1388 (0.00%)]\tLoss: 0.010539\n",
      "lr:  5.000000000000002e-09\n",
      "\n",
      "Training set: Loss 0.019185\n",
      "Validation set: Loss: 0.04111\n",
      "\n",
      "Train Epoch: 117 [0/1388 (0.00%)]\tLoss: 0.010133\n",
      "lr:  5.000000000000002e-09\n",
      "\n",
      "Training set: Loss 0.019435\n",
      "Validation set: Loss: 0.04111\n",
      "\n",
      "Train Epoch: 118 [0/1388 (0.00%)]\tLoss: 0.007058\n",
      "lr:  5.000000000000002e-09\n",
      "\n",
      "Training set: Loss 0.019114\n",
      "Validation set: Loss: 0.04111\n",
      "\n",
      "Train Epoch: 119 [0/1388 (0.00%)]\tLoss: 0.013114\n",
      "lr:  5.000000000000002e-09\n",
      "\n",
      "Training set: Loss 0.018783\n",
      "Validation set: Loss: 0.04111\n",
      "\n",
      "Train Epoch: 120 [0/1388 (0.00%)]\tLoss: 0.004155\n",
      "lr:  5.000000000000002e-09\n",
      "\n",
      "Training set: Loss 0.019694\n",
      "Validation set: Loss: 0.04111\n",
      "\n",
      "Train Epoch: 121 [0/1388 (0.00%)]\tLoss: 0.004693\n",
      "lr:  5.000000000000002e-09\n",
      "\n",
      "Training set: Loss 0.018953\n",
      "Validation set: Loss: 0.04111\n",
      "\n",
      "Train Epoch: 122 [0/1388 (0.00%)]\tLoss: 0.003614\n",
      "lr:  5.000000000000002e-09\n",
      "\n",
      "Training set: Loss 0.019008\n",
      "Validation set: Loss: 0.04111\n",
      "\n",
      "Train Epoch: 123 [0/1388 (0.00%)]\tLoss: 0.010606\n",
      "lr:  5.000000000000002e-09\n",
      "\n",
      "Training set: Loss 0.018820\n",
      "Validation set: Loss: 0.04111\n",
      "\n",
      "Train Epoch: 124 [0/1388 (0.00%)]\tLoss: 0.006794\n",
      "lr:  5.000000000000002e-09\n",
      "\n",
      "Training set: Loss 0.019001\n",
      "Validation set: Loss: 0.04112\n",
      "\n",
      "Train Epoch: 125 [0/1388 (0.00%)]\tLoss: 0.003934\n",
      "lr:  5.000000000000002e-09\n",
      "\n",
      "Training set: Loss 0.019567\n",
      "Validation set: Loss: 0.04111\n",
      "\n",
      "Train Epoch: 126 [0/1388 (0.00%)]\tLoss: 0.008902\n",
      "lr:  5.000000000000002e-09\n",
      "\n",
      "Training set: Loss 0.019093\n",
      "Validation set: Loss: 0.04112\n",
      "\n",
      "Train Epoch: 127 [0/1388 (0.00%)]\tLoss: 0.007091\n",
      "lr:  5.000000000000002e-09\n"
     ]
    },
    {
     "name": "stdout",
     "output_type": "stream",
     "text": [
      "\n",
      "Training set: Loss 0.019313\n",
      "Validation set: Loss: 0.04112\n",
      "\n",
      "Train Epoch: 128 [0/1388 (0.00%)]\tLoss: 0.005455\n",
      "lr:  5.000000000000002e-09\n",
      "\n",
      "Training set: Loss 0.018786\n",
      "Validation set: Loss: 0.04112\n",
      "\n",
      "Train Epoch: 129 [0/1388 (0.00%)]\tLoss: 0.007216\n",
      "lr:  5.000000000000002e-09\n",
      "\n",
      "Training set: Loss 0.019651\n",
      "Validation set: Loss: 0.04112\n",
      "\n",
      "Train Epoch: 130 [0/1388 (0.00%)]\tLoss: 0.003865\n",
      "lr:  5.000000000000002e-09\n",
      "\n",
      "Training set: Loss 0.018937\n",
      "Validation set: Loss: 0.04112\n",
      "\n",
      "Train Epoch: 131 [0/1388 (0.00%)]\tLoss: 0.008335\n",
      "lr:  5.000000000000002e-09\n",
      "\n",
      "Training set: Loss 0.018400\n",
      "Validation set: Loss: 0.04112\n",
      "\n",
      "Train Epoch: 132 [0/1388 (0.00%)]\tLoss: 0.008813\n",
      "lr:  5.000000000000002e-09\n",
      "\n",
      "Training set: Loss 0.019099\n",
      "Validation set: Loss: 0.04112\n",
      "\n",
      "Train Epoch: 133 [0/1388 (0.00%)]\tLoss: 0.005534\n",
      "lr:  5.000000000000002e-09\n",
      "\n",
      "Training set: Loss 0.018926\n",
      "Validation set: Loss: 0.04112\n",
      "\n",
      "Train Epoch: 134 [0/1388 (0.00%)]\tLoss: 0.005473\n",
      "lr:  5.000000000000002e-09\n",
      "\n",
      "Training set: Loss 0.019458\n",
      "Validation set: Loss: 0.04112\n",
      "\n",
      "Train Epoch: 135 [0/1388 (0.00%)]\tLoss: 0.005810\n",
      "lr:  5.000000000000002e-09\n",
      "\n",
      "Training set: Loss 0.018983\n",
      "Validation set: Loss: 0.04112\n",
      "\n",
      "Train Epoch: 136 [0/1388 (0.00%)]\tLoss: 0.003446\n",
      "lr:  5.000000000000002e-09\n",
      "\n",
      "Training set: Loss 0.019438\n",
      "Validation set: Loss: 0.04112\n",
      "\n",
      "Train Epoch: 137 [0/1388 (0.00%)]\tLoss: 0.004257\n",
      "lr:  5.000000000000002e-09\n",
      "\n",
      "Training set: Loss 0.019408\n",
      "Validation set: Loss: 0.04112\n",
      "\n",
      "Train Epoch: 138 [0/1388 (0.00%)]\tLoss: 0.003456\n",
      "lr:  5.000000000000002e-09\n",
      "\n",
      "Training set: Loss 0.019230\n",
      "Validation set: Loss: 0.04112\n",
      "\n",
      "Train Epoch: 139 [0/1388 (0.00%)]\tLoss: 0.009115\n",
      "lr:  5.000000000000002e-09\n",
      "\n",
      "Training set: Loss 0.018991\n",
      "Validation set: Loss: 0.04112\n",
      "\n",
      "Train Epoch: 140 [0/1388 (0.00%)]\tLoss: 0.006984\n",
      "lr:  5.000000000000002e-09\n",
      "\n",
      "Training set: Loss 0.018739\n",
      "Validation set: Loss: 0.04112\n",
      "\n",
      "Train Epoch: 141 [0/1388 (0.00%)]\tLoss: 0.008973\n",
      "lr:  5.000000000000002e-09\n",
      "\n",
      "Training set: Loss 0.018949\n",
      "Validation set: Loss: 0.04112\n",
      "\n",
      "Train Epoch: 142 [0/1388 (0.00%)]\tLoss: 0.008824\n",
      "lr:  5.000000000000002e-09\n",
      "\n",
      "Training set: Loss 0.018872\n",
      "Validation set: Loss: 0.04112\n",
      "\n",
      "Train Epoch: 143 [0/1388 (0.00%)]\tLoss: 0.010571\n",
      "lr:  5.000000000000002e-09\n",
      "\n",
      "Training set: Loss 0.018638\n",
      "Validation set: Loss: 0.04113\n",
      "\n",
      "Train Epoch: 144 [0/1388 (0.00%)]\tLoss: 0.010241\n",
      "lr:  5.000000000000002e-09\n",
      "\n",
      "Training set: Loss 0.019116\n",
      "Validation set: Loss: 0.04113\n",
      "\n",
      "Train Epoch: 145 [0/1388 (0.00%)]\tLoss: 0.004076\n",
      "lr:  5.000000000000002e-09\n",
      "\n",
      "Training set: Loss 0.019259\n",
      "Validation set: Loss: 0.04113\n",
      "\n",
      "Train Epoch: 146 [0/1388 (0.00%)]\tLoss: 0.007780\n",
      "lr:  5.000000000000002e-09\n",
      "\n",
      "Training set: Loss 0.019381\n",
      "Validation set: Loss: 0.04113\n",
      "\n",
      "Train Epoch: 147 [0/1388 (0.00%)]\tLoss: 0.013729\n",
      "lr:  5.000000000000002e-09\n",
      "\n",
      "Training set: Loss 0.019301\n",
      "Validation set: Loss: 0.04113\n",
      "\n",
      "Train Epoch: 148 [0/1388 (0.00%)]\tLoss: 0.005105\n",
      "lr:  5.000000000000002e-09\n",
      "\n",
      "Training set: Loss 0.018850\n",
      "Validation set: Loss: 0.04113\n",
      "\n",
      "Train Epoch: 149 [0/1388 (0.00%)]\tLoss: 0.010714\n",
      "lr:  5.000000000000002e-09\n",
      "\n",
      "Training set: Loss 0.019196\n",
      "Validation set: Loss: 0.04113\n",
      "\n",
      "Train Epoch: 150 [0/1388 (0.00%)]\tLoss: 0.010674\n",
      "lr:  5.000000000000002e-09\n",
      "\n",
      "Training set: Loss 0.019013\n",
      "Validation set: Loss: 0.04113\n",
      "\n",
      "Train Epoch: 151 [0/1388 (0.00%)]\tLoss: 0.003787\n",
      "lr:  5.000000000000002e-09\n",
      "\n",
      "Training set: Loss 0.019019\n",
      "Validation set: Loss: 0.04113\n",
      "\n",
      "Train Epoch: 152 [0/1388 (0.00%)]\tLoss: 0.003539\n",
      "lr:  5.000000000000002e-09\n",
      "\n",
      "Training set: Loss 0.019075\n",
      "Validation set: Loss: 0.04113\n",
      "\n",
      "Train Epoch: 153 [0/1388 (0.00%)]\tLoss: 0.010350\n",
      "lr:  5.000000000000002e-09\n",
      "\n",
      "Training set: Loss 0.018973\n",
      "Validation set: Loss: 0.04113\n",
      "\n",
      "Train Epoch: 154 [0/1388 (0.00%)]\tLoss: 0.003093\n",
      "lr:  5.000000000000002e-09\n",
      "\n",
      "Training set: Loss 0.018750\n",
      "Validation set: Loss: 0.04113\n",
      "\n",
      "Train Epoch: 155 [0/1388 (0.00%)]\tLoss: 0.007956\n",
      "lr:  5.000000000000002e-09\n",
      "\n",
      "Training set: Loss 0.018889\n",
      "Validation set: Loss: 0.04113\n",
      "\n",
      "Train Epoch: 156 [0/1388 (0.00%)]\tLoss: 0.005978\n",
      "lr:  5.000000000000002e-09\n",
      "\n",
      "Training set: Loss 0.019012\n",
      "Validation set: Loss: 0.04113\n",
      "\n",
      "Train Epoch: 157 [0/1388 (0.00%)]\tLoss: 0.007085\n",
      "lr:  5.000000000000002e-09\n",
      "\n",
      "Training set: Loss 0.019530\n",
      "Validation set: Loss: 0.04113\n",
      "\n",
      "Train Epoch: 158 [0/1388 (0.00%)]\tLoss: 0.008401\n",
      "lr:  5.000000000000002e-09\n",
      "\n",
      "Training set: Loss 0.019290\n",
      "Validation set: Loss: 0.04113\n",
      "\n",
      "Train Epoch: 159 [0/1388 (0.00%)]\tLoss: 0.007007\n",
      "lr:  5.000000000000002e-09\n",
      "\n",
      "Training set: Loss 0.019014\n",
      "Validation set: Loss: 0.04113\n",
      "\n",
      "Train Epoch: 160 [0/1388 (0.00%)]\tLoss: 0.016025\n",
      "lr:  5.000000000000002e-09\n",
      "\n",
      "Training set: Loss 0.018829\n",
      "Validation set: Loss: 0.04113\n",
      "\n",
      "Train Epoch: 161 [0/1388 (0.00%)]\tLoss: 0.004708\n",
      "lr:  5.000000000000002e-09\n",
      "\n",
      "Training set: Loss 0.019177\n",
      "Validation set: Loss: 0.04113\n",
      "\n",
      "Train Epoch: 162 [0/1388 (0.00%)]\tLoss: 0.003826\n",
      "lr:  5.000000000000002e-09\n",
      "\n",
      "Training set: Loss 0.018496\n",
      "Validation set: Loss: 0.04113\n",
      "\n",
      "Train Epoch: 163 [0/1388 (0.00%)]\tLoss: 0.005681\n",
      "lr:  5.000000000000002e-09\n",
      "\n",
      "Training set: Loss 0.018842\n",
      "Validation set: Loss: 0.04113\n",
      "\n",
      "Train Epoch: 164 [0/1388 (0.00%)]\tLoss: 0.005185\n",
      "lr:  5.000000000000002e-09\n",
      "\n",
      "Training set: Loss 0.019712\n",
      "Validation set: Loss: 0.04114\n",
      "\n",
      "Train Epoch: 165 [0/1388 (0.00%)]\tLoss: 0.014286\n",
      "lr:  5.000000000000002e-09\n",
      "\n",
      "Training set: Loss 0.018921\n",
      "Validation set: Loss: 0.04114\n",
      "\n",
      "Train Epoch: 166 [0/1388 (0.00%)]\tLoss: 0.015890\n",
      "lr:  5.000000000000002e-09\n",
      "\n",
      "Training set: Loss 0.019500\n",
      "Validation set: Loss: 0.04114\n",
      "\n",
      "Train Epoch: 167 [0/1388 (0.00%)]\tLoss: 0.003569\n",
      "lr:  5.000000000000002e-09\n",
      "\n",
      "Training set: Loss 0.019109\n",
      "Validation set: Loss: 0.04114\n",
      "\n",
      "Train Epoch: 168 [0/1388 (0.00%)]\tLoss: 0.005238\n",
      "lr:  5.000000000000002e-09\n",
      "\n",
      "Training set: Loss 0.018737\n",
      "Validation set: Loss: 0.04114\n",
      "\n",
      "Train Epoch: 169 [0/1388 (0.00%)]\tLoss: 0.004746\n",
      "lr:  5.000000000000002e-09\n",
      "\n",
      "Training set: Loss 0.019426\n",
      "Validation set: Loss: 0.04114\n",
      "\n",
      "Train Epoch: 170 [0/1388 (0.00%)]\tLoss: 0.006786\n",
      "lr:  5.000000000000002e-09\n",
      "\n",
      "Training set: Loss 0.018691\n",
      "Validation set: Loss: 0.04114\n",
      "\n",
      "Train Epoch: 171 [0/1388 (0.00%)]\tLoss: 0.006430\n",
      "lr:  5.000000000000002e-09\n",
      "\n",
      "Training set: Loss 0.019239\n",
      "Validation set: Loss: 0.04114\n",
      "\n",
      "Train Epoch: 172 [0/1388 (0.00%)]\tLoss: 0.009660\n",
      "lr:  5.000000000000002e-09\n",
      "\n",
      "Training set: Loss 0.019093\n",
      "Validation set: Loss: 0.04114\n",
      "\n",
      "Train Epoch: 173 [0/1388 (0.00%)]\tLoss: 0.006685\n",
      "lr:  5.000000000000002e-09\n",
      "\n",
      "Training set: Loss 0.018993\n",
      "Validation set: Loss: 0.04114\n",
      "\n",
      "Train Epoch: 174 [0/1388 (0.00%)]\tLoss: 0.005003\n",
      "lr:  5.000000000000002e-09\n",
      "\n",
      "Training set: Loss 0.018915\n",
      "Validation set: Loss: 0.04114\n",
      "\n",
      "Train Epoch: 175 [0/1388 (0.00%)]\tLoss: 0.002436\n",
      "lr:  5.000000000000002e-09\n",
      "\n",
      "Training set: Loss 0.018646\n",
      "Validation set: Loss: 0.04114\n",
      "\n",
      "Train Epoch: 176 [0/1388 (0.00%)]\tLoss: 0.003567\n",
      "lr:  5.000000000000002e-09\n",
      "\n",
      "Training set: Loss 0.018438\n",
      "Validation set: Loss: 0.04114\n",
      "\n",
      "Train Epoch: 177 [0/1388 (0.00%)]\tLoss: 0.007175\n",
      "lr:  5.000000000000002e-09\n",
      "\n",
      "Training set: Loss 0.019324\n",
      "Validation set: Loss: 0.04114\n",
      "\n",
      "Train Epoch: 178 [0/1388 (0.00%)]\tLoss: 0.004868\n",
      "lr:  5.000000000000002e-09\n",
      "\n",
      "Training set: Loss 0.018821\n",
      "Validation set: Loss: 0.04114\n",
      "\n",
      "Train Epoch: 179 [0/1388 (0.00%)]\tLoss: 0.006549\n",
      "lr:  5.000000000000002e-09\n",
      "\n",
      "Training set: Loss 0.019331\n",
      "Validation set: Loss: 0.04115\n",
      "\n",
      "Train Epoch: 180 [0/1388 (0.00%)]\tLoss: 0.014479\n",
      "lr:  5.000000000000002e-09\n",
      "\n",
      "Training set: Loss 0.019065\n",
      "Validation set: Loss: 0.04115\n",
      "\n",
      "Train Epoch: 181 [0/1388 (0.00%)]\tLoss: 0.007683\n",
      "lr:  5.000000000000002e-09\n",
      "\n",
      "Training set: Loss 0.018221\n",
      "Validation set: Loss: 0.04115\n",
      "\n",
      "Train Epoch: 182 [0/1388 (0.00%)]\tLoss: 0.006073\n",
      "lr:  5.000000000000002e-09\n",
      "\n",
      "Training set: Loss 0.018549\n",
      "Validation set: Loss: 0.04115\n",
      "\n",
      "Train Epoch: 183 [0/1388 (0.00%)]\tLoss: 0.009480\n",
      "lr:  5.000000000000002e-09\n",
      "\n",
      "Training set: Loss 0.019387\n",
      "Validation set: Loss: 0.04115\n",
      "\n",
      "Train Epoch: 184 [0/1388 (0.00%)]\tLoss: 0.009188\n",
      "lr:  5.000000000000002e-09\n",
      "\n",
      "Training set: Loss 0.019089\n",
      "Validation set: Loss: 0.04115\n",
      "\n",
      "Train Epoch: 185 [0/1388 (0.00%)]\tLoss: 0.007975\n",
      "lr:  5.000000000000002e-09\n",
      "\n",
      "Training set: Loss 0.018743\n",
      "Validation set: Loss: 0.04115\n",
      "\n",
      "Train Epoch: 186 [0/1388 (0.00%)]\tLoss: 0.005599\n",
      "lr:  5.000000000000002e-09\n",
      "\n",
      "Training set: Loss 0.018732\n",
      "Validation set: Loss: 0.04115\n",
      "\n",
      "Train Epoch: 187 [0/1388 (0.00%)]\tLoss: 0.003887\n",
      "lr:  5.000000000000002e-09\n",
      "\n",
      "Training set: Loss 0.018770\n",
      "Validation set: Loss: 0.04115\n",
      "\n",
      "Train Epoch: 188 [0/1388 (0.00%)]\tLoss: 0.004910\n",
      "lr:  5.000000000000002e-09\n"
     ]
    },
    {
     "name": "stdout",
     "output_type": "stream",
     "text": [
      "\n",
      "Training set: Loss 0.018694\n",
      "Validation set: Loss: 0.04115\n",
      "\n",
      "Train Epoch: 189 [0/1388 (0.00%)]\tLoss: 0.006525\n",
      "lr:  5.000000000000002e-09\n",
      "\n",
      "Training set: Loss 0.018739\n",
      "Validation set: Loss: 0.04115\n",
      "\n",
      "Train Epoch: 190 [0/1388 (0.00%)]\tLoss: 0.008245\n",
      "lr:  5.000000000000002e-09\n",
      "\n",
      "Training set: Loss 0.019136\n",
      "Validation set: Loss: 0.04115\n",
      "\n",
      "Train Epoch: 191 [0/1388 (0.00%)]\tLoss: 0.010483\n",
      "lr:  5.000000000000002e-09\n",
      "\n",
      "Training set: Loss 0.018766\n",
      "Validation set: Loss: 0.04115\n",
      "\n",
      "Train Epoch: 192 [0/1388 (0.00%)]\tLoss: 0.004587\n",
      "lr:  5.000000000000002e-09\n",
      "\n",
      "Training set: Loss 0.018283\n",
      "Validation set: Loss: 0.04115\n",
      "\n",
      "Train Epoch: 193 [0/1388 (0.00%)]\tLoss: 0.005738\n",
      "lr:  5.000000000000002e-09\n",
      "\n",
      "Training set: Loss 0.019250\n",
      "Validation set: Loss: 0.04116\n",
      "\n",
      "Train Epoch: 194 [0/1388 (0.00%)]\tLoss: 0.005918\n",
      "lr:  5.000000000000002e-09\n",
      "\n",
      "Training set: Loss 0.019278\n",
      "Validation set: Loss: 0.04116\n",
      "\n",
      "Train Epoch: 195 [0/1388 (0.00%)]\tLoss: 0.007798\n",
      "lr:  5.000000000000002e-09\n",
      "\n",
      "Training set: Loss 0.019402\n",
      "Validation set: Loss: 0.04116\n",
      "\n",
      "Train Epoch: 196 [0/1388 (0.00%)]\tLoss: 0.007249\n",
      "lr:  5.000000000000002e-09\n",
      "\n",
      "Training set: Loss 0.018808\n",
      "Validation set: Loss: 0.04116\n",
      "\n",
      "Train Epoch: 197 [0/1388 (0.00%)]\tLoss: 0.007636\n",
      "lr:  5.000000000000002e-09\n",
      "\n",
      "Training set: Loss 0.019257\n",
      "Validation set: Loss: 0.04116\n",
      "\n",
      "Train Epoch: 198 [0/1388 (0.00%)]\tLoss: 0.005395\n",
      "lr:  5.000000000000002e-09\n",
      "\n",
      "Training set: Loss 0.019441\n",
      "Validation set: Loss: 0.04116\n",
      "\n",
      "Train Epoch: 199 [0/1388 (0.00%)]\tLoss: 0.009201\n",
      "lr:  5.000000000000002e-09\n",
      "\n",
      "Training set: Loss 0.019197\n",
      "Validation set: Loss: 0.04116\n",
      "\n",
      "Train Epoch: 200 [0/1388 (0.00%)]\tLoss: 0.005704\n",
      "lr:  5.000000000000002e-09\n",
      "\n",
      "Training set: Loss 0.019152\n",
      "Validation set: Loss: 0.04116\n",
      "\n",
      "Test set: Loss: 0.03396\n",
      "\n"
     ]
    }
   ],
   "source": [
    "\n",
    "train_loss, val_loss  = training(model1,0.0005,200)"
   ]
  },
  {
   "cell_type": "code",
   "execution_count": 50,
   "id": "86ce0248",
   "metadata": {},
   "outputs": [
    {
     "data": {
      "text/plain": [
       "<matplotlib.legend.Legend at 0x1ea8037f188>"
      ]
     },
     "execution_count": 50,
     "metadata": {},
     "output_type": "execute_result"
    },
    {
     "data": {
      "image/png": "[encoded data removed]",
      "text/plain": [
       "<Figure size 432x288 with 1 Axes>"
      ]
     },
     "metadata": {
      "needs_background": "light"
     },
     "output_type": "display_data"
    }
   ],
   "source": [
    "#plt.plot(test_loss,'r',label = 'Test_loss')\n",
    "plt.plot(val_loss,'r',label = 'val_loss')\n",
    "plt.plot(train_loss,'b',label = 'Train_loss')\n",
    "plt.xlabel('Epoch')\n",
    "plt.ylabel('Loss')\n",
    "plt.legend()"
   ]
  },
  {
   "cell_type": "code",
   "execution_count": 51,
   "id": "e2ae5d80",
   "metadata": {},
   "outputs": [
    {
     "data": {
      "text/plain": [
       "[<matplotlib.lines.Line2D at 0x1ea80ad8348>]"
      ]
     },
     "execution_count": 51,
     "metadata": {},
     "output_type": "execute_result"
    },
    {
     "data": {
      "image/png": "[encoded data removed]",
      "text/plain": [
       "<Figure size 432x288 with 1 Axes>"
      ]
     },
     "metadata": {
      "needs_background": "light"
     },
     "output_type": "display_data"
    }
   ],
   "source": [
    "plt.plot(label_y_n1)"
   ]
  },
  {
   "cell_type": "code",
   "execution_count": 52,
   "id": "66ee32da",
   "metadata": {
    "scrolled": false
   },
   "outputs": [
    {
     "data": {
      "text/plain": [
       "<matplotlib.legend.Legend at 0x1ea98f42808>"
      ]
     },
     "execution_count": 52,
     "metadata": {},
     "output_type": "execute_result"
    },
    {
     "data": {
      "image/png": "[encoded data removed]",
      "text/plain": [
       "<Figure size 432x288 with 1 Axes>"
      ]
     },
     "metadata": {
      "needs_background": "light"
     },
     "output_type": "display_data"
    },
    {
     "data": {
      "image/png": "[encoded data removed]",
      "text/plain": [
       "<Figure size 432x288 with 1 Axes>"
      ]
     },
     "metadata": {
      "needs_background": "light"
     },
     "output_type": "display_data"
    }
   ],
   "source": [
    "#simul1\n",
    "plt.figure(1)\n",
    "plt.title('simulation 1')\n",
    "plt.plot(model1(train.x_data[:len(df_x1)-15+1].to(device))[:,0].detach().cpu(),'r', label='predict')\n",
    "plt.plot(df_x_n1[s-1:],'b',label='True')\n",
    "plt.xlabel('TimeLine')\n",
    "plt.ylabel('joystick_x')\n",
    "plt.legend()\n",
    "plt.figure(2)\n",
    "plt.plot(model1(train.x_data[:len(df_x1)-15+1].to(device))[:,1].detach().cpu(),'r', label='predict')\n",
    "plt.plot(df_y_n1[s-1:],'b',label='True')\n",
    "plt.xlabel('TimeLine')\n",
    "plt.ylabel('joystick_y')\n",
    "plt.legend()"
   ]
  },
  {
   "cell_type": "code",
   "execution_count": 53,
   "id": "53fb3fcf",
   "metadata": {},
   "outputs": [
    {
     "data": {
      "text/plain": [
       "<matplotlib.legend.Legend at 0x1ea995cfd08>"
      ]
     },
     "execution_count": 53,
     "metadata": {},
     "output_type": "execute_result"
    },
    {
     "data": {
      "image/png": "[encoded data removed]",
      "text/plain": [
       "<Figure size 432x288 with 1 Axes>"
      ]
     },
     "metadata": {
      "needs_background": "light"
     },
     "output_type": "display_data"
    },
    {
     "data": {
      "image/png": "[encoded data removed]",
      "text/plain": [
       "<Figure size 432x288 with 1 Axes>"
      ]
     },
     "metadata": {
      "needs_background": "light"
     },
     "output_type": "display_data"
    }
   ],
   "source": [
    "#simul2\n",
    "plt.figure(1)\n",
    "plt.title('simulation 2')\n",
    "plt.plot(model1(train.x_data[len(df_x1)-15+1:len(df_x1)-15+1+len(df_x2)-15+1].to(device))[:,0].detach().cpu(),'r', label='predict')\n",
    "plt.plot(df_x_n2[s-1:],'b',label='True')\n",
    "plt.xlabel('TimeLine')\n",
    "plt.ylabel('joystick_x')\n",
    "plt.legend()\n",
    "plt.figure(2)\n",
    "plt.plot(model1(train.x_data[len(df_x1)-15+1:len(df_x2)-15+1+len(df_x1)-15+1].to(device))[:,1].detach().cpu(),'r', label='predict')\n",
    "plt.plot(df_y_n2[s-1:],'b',label='True')\n",
    "plt.xlabel('TimeLine')\n",
    "plt.ylabel('joystick_y')\n",
    "plt.legend()"
   ]
  },
  {
   "cell_type": "code",
   "execution_count": 54,
   "id": "51ebf5c0",
   "metadata": {
    "scrolled": false
   },
   "outputs": [
    {
     "data": {
      "text/plain": [
       "<matplotlib.legend.Legend at 0x1eaa02d0a48>"
      ]
     },
     "execution_count": 54,
     "metadata": {},
     "output_type": "execute_result"
    },
    {
     "data": {
      "image/png": "[encoded data removed]",
      "text/plain": [
       "<Figure size 432x288 with 1 Axes>"
      ]
     },
     "metadata": {
      "needs_background": "light"
     },
     "output_type": "display_data"
    },
    {
     "data": {
      "image/png": "[encoded data removed]",
      "text/plain": [
       "<Figure size 432x288 with 1 Axes>"
      ]
     },
     "metadata": {
      "needs_background": "light"
     },
     "output_type": "display_data"
    }
   ],
   "source": [
    "#simul3\n",
    "plt.figure(1)\n",
    "plt.title('simulation 3')\n",
    "plt.plot(model1(train.x_data[len(df_x1)-15+1+len(df_x2)-15+1:].to(device))[:,0].detach().cpu(),'r', label='predict')\n",
    "plt.plot(df_x_n3[14:],'b',label='True')\n",
    "plt.xlabel('TimeLine')\n",
    "plt.ylabel('joystick_x')\n",
    "plt.legend()\n",
    "plt.figure(2)\n",
    "plt.plot(model1(train.x_data[len(df_x1)-15+1+len(df_x2)-15+1:].to(device))[:,1].detach().cpu(),'r', label='predict')\n",
    "plt.plot(df_y_n3[14:],'b',label='True')\n",
    "plt.xlabel('TimeLine')\n",
    "plt.ylabel('joystick_y')\n",
    "plt.legend()"
   ]
  },
  {
   "cell_type": "code",
   "execution_count": 677,
   "id": "287c770f",
   "metadata": {},
   "outputs": [
    {
     "data": {
      "text/plain": [
       "1388"
      ]
     },
     "execution_count": 677,
     "metadata": {},
     "output_type": "execute_result"
    }
   ],
   "source": [
    "len(model1(temp_x.to(device))[:,1].detach().cpu())"
   ]
  },
  {
   "cell_type": "code",
   "execution_count": 180,
   "id": "87041453",
   "metadata": {},
   "outputs": [
    {
     "ename": "NameError",
     "evalue": "name 'df_y_n' is not defined",
     "output_type": "error",
     "traceback": [
      "\u001b[1;31m---------------------------------------------------------------------------\u001b[0m",
      "\u001b[1;31mNameError\u001b[0m                                 Traceback (most recent call last)",
      "\u001b[1;32m~\\AppData\\Local\\Temp\\ipykernel_26068\\621310612.py\u001b[0m in \u001b[0;36m<module>\u001b[1;34m\u001b[0m\n\u001b[1;32m----> 1\u001b[1;33m \u001b[0mlen\u001b[0m\u001b[1;33m(\u001b[0m\u001b[0mdf_y_n\u001b[0m\u001b[1;33m[\u001b[0m\u001b[1;36m14\u001b[0m\u001b[1;33m:\u001b[0m\u001b[1;33m]\u001b[0m\u001b[1;33m)\u001b[0m\u001b[1;33m\u001b[0m\u001b[1;33m\u001b[0m\u001b[0m\n\u001b[0m",
      "\u001b[1;31mNameError\u001b[0m: name 'df_y_n' is not defined"
     ]
    }
   ],
   "source": [
    "len(df_y_n[14:])"
   ]
  },
  {
   "cell_type": "code",
   "execution_count": 739,
   "id": "1be401ed",
   "metadata": {},
   "outputs": [
    {
     "data": {
      "text/plain": [
       "torch.Size([98, 1, 2])"
      ]
     },
     "execution_count": 739,
     "metadata": {},
     "output_type": "execute_result"
    }
   ],
   "source": [
    "test.y_data.size()"
   ]
  },
  {
   "cell_type": "markdown",
   "id": "60346f2d",
   "metadata": {},
   "source": [
    "### 전체 경향성"
   ]
  },
  {
   "cell_type": "code",
   "execution_count": 55,
   "id": "4398889f",
   "metadata": {},
   "outputs": [
    {
     "name": "stderr",
     "output_type": "stream",
     "text": [
      "No artists with labels found to put in legend.  Note that artists whose label start with an underscore are ignored when legend() is called with no argument.\n"
     ]
    },
    {
     "data": {
      "text/plain": [
       "<matplotlib.legend.Legend at 0x1ea9968ec08>"
      ]
     },
     "execution_count": 55,
     "metadata": {},
     "output_type": "execute_result"
    },
    {
     "data": {
      "image/png": "[encoded data removed]",
      "text/plain": [
       "<Figure size 432x288 with 1 Axes>"
      ]
     },
     "metadata": {
      "needs_background": "light"
     },
     "output_type": "display_data"
    }
   ],
   "source": [
    "plt.scatter(model1(temp_x[:len(df_x1)-15+1].to(device))[:,0].detach().cpu(),df_x_n1[14:664])\n",
    "plt.plot([0,1],[0,1],'red')\n",
    "plt.xlabel('Predict_x')\n",
    "plt.ylabel('True_x')\n",
    "plt.legend()"
   ]
  },
  {
   "cell_type": "code",
   "execution_count": 56,
   "id": "ea9f2369",
   "metadata": {
    "scrolled": true
   },
   "outputs": [
    {
     "name": "stderr",
     "output_type": "stream",
     "text": [
      "No artists with labels found to put in legend.  Note that artists whose label start with an underscore are ignored when legend() is called with no argument.\n"
     ]
    },
    {
     "data": {
      "text/plain": [
       "<matplotlib.legend.Legend at 0x1ea98f7c248>"
      ]
     },
     "execution_count": 56,
     "metadata": {},
     "output_type": "execute_result"
    },
    {
     "data": {
      "image/png": "[encoded data removed]",
      "text/plain": [
       "<Figure size 432x288 with 1 Axes>"
      ]
     },
     "metadata": {
      "needs_background": "light"
     },
     "output_type": "display_data"
    }
   ],
   "source": [
    "plt.scatter(model1(temp_x[:len(df_x1)-15+1].to(device))[:,1].detach().cpu(),df_y_n1[14:664])\n",
    "plt.plot([0,1],[0,1],'red')\n",
    "plt.xlabel('Predict_y')\n",
    "plt.ylabel('True_y')\n",
    "plt.legend()"
   ]
  },
  {
   "cell_type": "markdown",
   "id": "2723a8bf",
   "metadata": {},
   "source": [
    "### validation 경향성"
   ]
  },
  {
   "cell_type": "code",
   "execution_count": 720,
   "id": "e839544b",
   "metadata": {},
   "outputs": [
    {
     "data": {
      "text/plain": [
       "[<matplotlib.lines.Line2D at 0x22f0f6b8808>]"
      ]
     },
     "execution_count": 720,
     "metadata": {},
     "output_type": "execute_result"
    },
    {
     "data": {
      "image/png": "[encoded data removed]",
      "text/plain": [
       "<Figure size 432x288 with 1 Axes>"
      ]
     },
     "metadata": {
      "needs_background": "light"
     },
     "output_type": "display_data"
    }
   ],
   "source": [
    "plt.plot(label_x_n3,'r', label='predict')"
   ]
  },
  {
   "cell_type": "code",
   "execution_count": 777,
   "id": "521cd1f9",
   "metadata": {},
   "outputs": [
    {
     "data": {
      "text/plain": [
       "<matplotlib.legend.Legend at 0x22f12941108>"
      ]
     },
     "execution_count": 777,
     "metadata": {},
     "output_type": "execute_result"
    },
    {
     "data": {
      "image/png": "[encoded data removed]",
      "text/plain": [
       "<Figure size 432x288 with 1 Axes>"
      ]
     },
     "metadata": {
      "needs_background": "light"
     },
     "output_type": "display_data"
    }
   ],
   "source": [
    "plt.plot(model1(val.x_data.to(device))[:,0].detach().cpu(),'r', label='predict')\n",
    "plt.plot(val.y_data[:,:,0],'b',label='True')\n",
    "plt.xlabel('TimeLine')\n",
    "plt.ylabel('joystick_x')\n",
    "plt.legend()"
   ]
  },
  {
   "cell_type": "code",
   "execution_count": 778,
   "id": "0cfdd448",
   "metadata": {
    "scrolled": true
   },
   "outputs": [
    {
     "name": "stderr",
     "output_type": "stream",
     "text": [
      "No artists with labels found to put in legend.  Note that artists whose label start with an underscore are ignored when legend() is called with no argument.\n"
     ]
    },
    {
     "data": {
      "text/plain": [
       "<matplotlib.legend.Legend at 0x22f129c8ec8>"
      ]
     },
     "execution_count": 778,
     "metadata": {},
     "output_type": "execute_result"
    },
    {
     "data": {
      "image/png": "[encoded data removed]",
      "text/plain": [
       "<Figure size 432x288 with 1 Axes>"
      ]
     },
     "metadata": {
      "needs_background": "light"
     },
     "output_type": "display_data"
    }
   ],
   "source": [
    "plt.scatter(model1(val.x_data.to(device))[:,0].detach().cpu(),val.y_data[:,:,0])\n",
    "plt.plot([0,1],[0,1],'red')\n",
    "plt.xlabel('Predict_x')\n",
    "plt.ylabel('True_x')\n",
    "plt.legend()"
   ]
  },
  {
   "cell_type": "code",
   "execution_count": 779,
   "id": "b790b127",
   "metadata": {},
   "outputs": [
    {
     "data": {
      "text/plain": [
       "[<matplotlib.lines.Line2D at 0x22f12a4cb48>]"
      ]
     },
     "execution_count": 779,
     "metadata": {},
     "output_type": "execute_result"
    },
    {
     "data": {
      "image/png": "[encoded data removed]",
      "text/plain": [
       "<Figure size 432x288 with 1 Axes>"
      ]
     },
     "metadata": {
      "needs_background": "light"
     },
     "output_type": "display_data"
    }
   ],
   "source": [
    "plt.plot(label_y_n3,'r', label='predict')"
   ]
  },
  {
   "cell_type": "code",
   "execution_count": 780,
   "id": "bdc1410d",
   "metadata": {
    "scrolled": true
   },
   "outputs": [
    {
     "data": {
      "text/plain": [
       "<matplotlib.legend.Legend at 0x22f12ac5d48>"
      ]
     },
     "execution_count": 780,
     "metadata": {},
     "output_type": "execute_result"
    },
    {
     "data": {
      "image/png": "[encoded data removed]",
      "text/plain": [
       "<Figure size 432x288 with 1 Axes>"
      ]
     },
     "metadata": {
      "needs_background": "light"
     },
     "output_type": "display_data"
    }
   ],
   "source": [
    "plt.plot(model1(val.x_data.to(device))[:,1].detach().cpu(),'r', label='predict')\n",
    "plt.plot(val.y_data[:,:,1],'b',label='True')\n",
    "plt.xlabel('TimeLine')\n",
    "plt.ylabel('joystick_y')\n",
    "plt.legend()"
   ]
  },
  {
   "cell_type": "code",
   "execution_count": 781,
   "id": "2f8ffb34",
   "metadata": {},
   "outputs": [
    {
     "name": "stderr",
     "output_type": "stream",
     "text": [
      "No artists with labels found to put in legend.  Note that artists whose label start with an underscore are ignored when legend() is called with no argument.\n"
     ]
    },
    {
     "data": {
      "text/plain": [
       "<matplotlib.legend.Legend at 0x22f12b5fe08>"
      ]
     },
     "execution_count": 781,
     "metadata": {},
     "output_type": "execute_result"
    },
    {
     "data": {
      "image/png": "[encoded data removed]",
      "text/plain": [
       "<Figure size 432x288 with 1 Axes>"
      ]
     },
     "metadata": {
      "needs_background": "light"
     },
     "output_type": "display_data"
    }
   ],
   "source": [
    "plt.scatter(model1(val.x_data.to(device))[:,1].detach().cpu(),val.y_data[:,:,1])\n",
    "plt.plot([0,1],[0,1],'red')\n",
    "plt.xlabel('Predict_x')\n",
    "plt.ylabel('True_x')\n",
    "plt.legend()"
   ]
  },
  {
   "cell_type": "markdown",
   "id": "1b91e608",
   "metadata": {},
   "source": [
    "### testset 경향성"
   ]
  },
  {
   "cell_type": "code",
   "execution_count": 799,
   "id": "5ef38f88",
   "metadata": {},
   "outputs": [
    {
     "data": {
      "text/plain": [
       "<matplotlib.legend.Legend at 0x22f131015c8>"
      ]
     },
     "execution_count": 799,
     "metadata": {},
     "output_type": "execute_result"
    },
    {
     "data": {
      "image/png": "[encoded data removed]",
      "text/plain": [
       "<Figure size 432x288 with 1 Axes>"
      ]
     },
     "metadata": {
      "needs_background": "light"
     },
     "output_type": "display_data"
    },
    {
     "data": {
      "image/png": "[encoded data removed]",
      "text/plain": [
       "<Figure size 432x288 with 1 Axes>"
      ]
     },
     "metadata": {
      "needs_background": "light"
     },
     "output_type": "display_data"
    }
   ],
   "source": [
    "plt.figure(1)\n",
    "plt.plot(model1(test.x_data.to(device))[:,0].detach().cpu(),'r', label='predict')\n",
    "plt.plot(test.y_data[:,:,0],'b',label='True')\n",
    "plt.xlabel('TimeLine')\n",
    "plt.ylabel('joystick_x')\n",
    "plt.legend()\n",
    "plt.figure(2)\n",
    "plt.plot(model1(test.x_data.to(device))[:,1].detach().cpu(),'r', label='predict')\n",
    "plt.plot(test.y_data[:,:,1],'b',label='True')\n",
    "plt.xlabel('TimeLine')\n",
    "plt.ylabel('joystick_y')\n",
    "plt.legend()"
   ]
  },
  {
   "cell_type": "code",
   "execution_count": 801,
   "id": "13ab39ab",
   "metadata": {},
   "outputs": [
    {
     "name": "stderr",
     "output_type": "stream",
     "text": [
      "No artists with labels found to put in legend.  Note that artists whose label start with an underscore are ignored when legend() is called with no argument.\n",
      "No artists with labels found to put in legend.  Note that artists whose label start with an underscore are ignored when legend() is called with no argument.\n"
     ]
    },
    {
     "data": {
      "text/plain": [
       "<matplotlib.legend.Legend at 0x22f132b1688>"
      ]
     },
     "execution_count": 801,
     "metadata": {},
     "output_type": "execute_result"
    },
    {
     "data": {
      "image/png": "[encoded data removed]",
      "text/plain": [
       "<Figure size 432x288 with 1 Axes>"
      ]
     },
     "metadata": {
      "needs_background": "light"
     },
     "output_type": "display_data"
    },
    {
     "data": {
      "image/png": "[encoded data removed]",
      "text/plain": [
       "<Figure size 432x288 with 1 Axes>"
      ]
     },
     "metadata": {
      "needs_background": "light"
     },
     "output_type": "display_data"
    }
   ],
   "source": [
    "plt.figure(1)\n",
    "plt.scatter(model1(test.x_data.to(device))[:,0].detach().cpu(),test.y_data[:,:,0])\n",
    "plt.plot([0,1],[0,1],'red')\n",
    "plt.xlabel('Predict_x')\n",
    "plt.ylabel('True_x')\n",
    "plt.legend()\n",
    "\n",
    "plt.figure(2)\n",
    "plt.scatter(model1(test.x_data.to(device))[:,1].detach().cpu(),test.y_data[:,:,1])\n",
    "plt.plot([0,1],[0,1],'red')\n",
    "plt.xlabel('Predict_y')\n",
    "plt.ylabel('True_y')\n",
    "plt.legend()"
   ]
  },
  {
   "cell_type": "code",
   "execution_count": 785,
   "id": "e11705c8",
   "metadata": {},
   "outputs": [
    {
     "name": "stderr",
     "output_type": "stream",
     "text": [
      "No artists with labels found to put in legend.  Note that artists whose label start with an underscore are ignored when legend() is called with no argument.\n"
     ]
    },
    {
     "data": {
      "text/plain": [
       "<matplotlib.legend.Legend at 0x22f12d7e148>"
      ]
     },
     "execution_count": 785,
     "metadata": {},
     "output_type": "execute_result"
    },
    {
     "data": {
      "image/png": "[encoded data removed]",
      "text/plain": [
       "<Figure size 432x288 with 1 Axes>"
      ]
     },
     "metadata": {
      "needs_background": "light"
     },
     "output_type": "display_data"
    }
   ],
   "source": [
    "plt.scatter(model1(test.x_data.to(device))[:,1].detach().cpu(),test.y_data[:,:,1])\n",
    "plt.plot([0,1],[0,1],'red')\n",
    "plt.xlabel('Predict_x')\n",
    "plt.ylabel('True_x')\n",
    "plt.legend()"
   ]
  },
  {
   "cell_type": "markdown",
   "id": "e14fc606",
   "metadata": {},
   "source": [
    "###  모델저장"
   ]
  },
  {
   "cell_type": "code",
   "execution_count": 686,
   "id": "91bc08f8",
   "metadata": {},
   "outputs": [],
   "source": [
    "PATH = 'C:\\song\\colonoscopy\\weight/'"
   ]
  },
  {
   "cell_type": "code",
   "execution_count": 687,
   "id": "0cf6ff03",
   "metadata": {},
   "outputs": [],
   "source": [
    "torch.save(model1, PATH + 'model_CNN_reverse_1lay.pt')\n",
    "torch.save(model1.state_dict(), PATH + 'model_CNN_reverse_state_dict_1lay.pt')\n"
   ]
  },
  {
   "cell_type": "markdown",
   "id": "2c650e8c",
   "metadata": {},
   "source": [
    "### model 불러오기"
   ]
  },
  {
   "cell_type": "code",
   "execution_count": 356,
   "id": "58462723",
   "metadata": {},
   "outputs": [
    {
     "ename": "RuntimeError",
     "evalue": "Error(s) in loading state_dict for Model:\n\tsize mismatch for fc2.weight: copying a param with shape torch.Size([256, 512]) from checkpoint, the shape in current model is torch.Size([216, 512]).\n\tsize mismatch for fc2.bias: copying a param with shape torch.Size([256]) from checkpoint, the shape in current model is torch.Size([216]).\n\tsize mismatch for fc1.weight: copying a param with shape torch.Size([2, 256]) from checkpoint, the shape in current model is torch.Size([2, 216]).",
     "output_type": "error",
     "traceback": [
      "\u001b[1;31m---------------------------------------------------------------------------\u001b[0m",
      "\u001b[1;31mRuntimeError\u001b[0m                              Traceback (most recent call last)",
      "\u001b[1;32m~\\AppData\\Local\\Temp\\ipykernel_36960\\453984988.py\u001b[0m in \u001b[0;36m<module>\u001b[1;34m\u001b[0m\n\u001b[1;32m----> 1\u001b[1;33m \u001b[0mmodel1\u001b[0m\u001b[1;33m.\u001b[0m\u001b[0mload_state_dict\u001b[0m\u001b[1;33m(\u001b[0m\u001b[0mtorch\u001b[0m\u001b[1;33m.\u001b[0m\u001b[0mload\u001b[0m\u001b[1;33m(\u001b[0m\u001b[0mPATH\u001b[0m \u001b[1;33m+\u001b[0m \u001b[1;34m'model_CNN_reverse_state_dict.pt'\u001b[0m\u001b[1;33m)\u001b[0m\u001b[1;33m)\u001b[0m\u001b[1;33m\u001b[0m\u001b[1;33m\u001b[0m\u001b[0m\n\u001b[0m\u001b[0;32m      2\u001b[0m \u001b[0mmodel1\u001b[0m\u001b[1;33m.\u001b[0m\u001b[0mto\u001b[0m\u001b[1;33m(\u001b[0m\u001b[0mdevice\u001b[0m\u001b[1;33m)\u001b[0m\u001b[1;33m\u001b[0m\u001b[1;33m\u001b[0m\u001b[0m\n",
      "\u001b[1;32m~\\Miniconda3\\envs\\machin\\lib\\site-packages\\torch\\nn\\modules\\module.py\u001b[0m in \u001b[0;36mload_state_dict\u001b[1;34m(self, state_dict, strict)\u001b[0m\n\u001b[0;32m   1496\u001b[0m         \u001b[1;32mif\u001b[0m \u001b[0mlen\u001b[0m\u001b[1;33m(\u001b[0m\u001b[0merror_msgs\u001b[0m\u001b[1;33m)\u001b[0m \u001b[1;33m>\u001b[0m \u001b[1;36m0\u001b[0m\u001b[1;33m:\u001b[0m\u001b[1;33m\u001b[0m\u001b[1;33m\u001b[0m\u001b[0m\n\u001b[0;32m   1497\u001b[0m             raise RuntimeError('Error(s) in loading state_dict for {}:\\n\\t{}'.format(\n\u001b[1;32m-> 1498\u001b[1;33m                                self.__class__.__name__, \"\\n\\t\".join(error_msgs)))\n\u001b[0m\u001b[0;32m   1499\u001b[0m         \u001b[1;32mreturn\u001b[0m \u001b[0m_IncompatibleKeys\u001b[0m\u001b[1;33m(\u001b[0m\u001b[0mmissing_keys\u001b[0m\u001b[1;33m,\u001b[0m \u001b[0munexpected_keys\u001b[0m\u001b[1;33m)\u001b[0m\u001b[1;33m\u001b[0m\u001b[1;33m\u001b[0m\u001b[0m\n\u001b[0;32m   1500\u001b[0m \u001b[1;33m\u001b[0m\u001b[0m\n",
      "\u001b[1;31mRuntimeError\u001b[0m: Error(s) in loading state_dict for Model:\n\tsize mismatch for fc2.weight: copying a param with shape torch.Size([256, 512]) from checkpoint, the shape in current model is torch.Size([216, 512]).\n\tsize mismatch for fc2.bias: copying a param with shape torch.Size([256]) from checkpoint, the shape in current model is torch.Size([216]).\n\tsize mismatch for fc1.weight: copying a param with shape torch.Size([2, 256]) from checkpoint, the shape in current model is torch.Size([2, 216])."
     ]
    }
   ],
   "source": [
    "model1.load_state_dict(torch.load(PATH + 'model_CNN_reverse_state_dict.pt'))\n",
    "model1.to(device)"
   ]
  },
  {
   "cell_type": "code",
   "execution_count": 358,
   "id": "fb49b106",
   "metadata": {},
   "outputs": [],
   "source": [
    "model1 = torch.load( PATH + 'model_CNN_reverse.pt')"
   ]
  },
  {
   "cell_type": "code",
   "execution_count": null,
   "id": "0d2b69b2",
   "metadata": {},
   "outputs": [],
   "source": []
  }
 ],
 "metadata": {
  "kernelspec": {
   "display_name": "Python 3 (ipykernel)",
   "language": "python",
   "name": "python3"
  },
  "language_info": {
   "codemirror_mode": {
    "name": "ipython",
    "version": 3
   },
   "file_extension": ".py",
   "mimetype": "text/x-python",
   "name": "python",
   "nbconvert_exporter": "python",
   "pygments_lexer": "ipython3",
   "version": "3.7.11"
  }
 },
 "nbformat": 4,
 "nbformat_minor": 5
}
